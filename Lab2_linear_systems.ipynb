{
  "nbformat": 4,
  "nbformat_minor": 0,
  "metadata": {
    "colab": {
      "name": "Lab2_linear_systems.ipynb",
      "provenance": [],
      "collapsed_sections": [],
      "authorship_tag": "ABX9TyMcTaK4JUsQR6eKuF2LY0a6",
      "include_colab_link": true
    },
    "kernelspec": {
      "name": "python3",
      "display_name": "Python 3"
    }
  },
  "cells": [
    {
      "cell_type": "markdown",
      "metadata": {
        "id": "view-in-github",
        "colab_type": "text"
      },
      "source": [
        "<a href=\"https://colab.research.google.com/github/bgalerne/IoT_mathematics/blob/master/Lab2_linear_systems.ipynb\" target=\"_parent\"><img src=\"https://colab.research.google.com/assets/colab-badge.svg\" alt=\"Open In Colab\"/></a>"
      ]
    },
    {
      "cell_type": "code",
      "metadata": {
        "id": "dmlDKqWxTjMD",
        "colab_type": "code",
        "colab": {}
      },
      "source": [
        "import numpy as np\n",
        "import matplotlib.pyplot as plt\n",
        "import time\n",
        "import scipy.linalg"
      ],
      "execution_count": null,
      "outputs": []
    },
    {
      "cell_type": "markdown",
      "metadata": {
        "id": "pIZXM4-VUUop",
        "colab_type": "text"
      },
      "source": [
        "# Create some matrix $A$"
      ]
    },
    {
      "cell_type": "code",
      "metadata": {
        "id": "1DnFb-t5UTYy",
        "colab_type": "code",
        "colab": {
          "base_uri": "https://localhost:8080/",
          "height": 289
        },
        "outputId": "3b958bb5-93a9-4974-b63d-bb8c149f7e93"
      },
      "source": [
        "n=5\n",
        "M = np.random.rand(n,2*n)\n",
        "print(M)\n",
        "A = M.dot(M.T)\n",
        "print(A)"
      ],
      "execution_count": 18,
      "outputs": [
        {
          "output_type": "stream",
          "text": [
            "[[0.33718307 0.63009354 0.4854541  0.09583345 0.51797124 0.7161584\n",
            "  0.4468022  0.53344182 0.96494667 0.25220548]\n",
            " [0.95171826 0.2629077  0.6781226  0.95371519 0.4169272  0.00285753\n",
            "  0.86112921 0.67733721 0.2597933  0.33855159]\n",
            " [0.01272154 0.14866683 0.45399696 0.42528438 0.34340806 0.09619981\n",
            "  0.96209166 0.03314806 0.56637591 0.78017939]\n",
            " [0.15228491 0.58778139 0.25856138 0.6081899  0.19008433 0.49978307\n",
            "  0.23252109 0.19750877 0.02103524 0.01483652]\n",
            " [0.73911768 0.11196978 0.07178123 0.66070592 0.87577513 0.29720724\n",
            "  0.74030342 0.142055   0.97161736 0.88379503]]\n",
            "[[3.01565914 2.20730335 1.79671975 1.29518193 2.65141158]\n",
            " [2.20730335 3.90058643 2.17031909 1.48001879 3.06300095]\n",
            " [1.79671975 2.17031909 2.39260791 0.83245879 2.62573273]\n",
            " [1.29518193 1.48001879 0.83245879 1.18508014 1.14751892]\n",
            " [2.65141158 3.06300095 2.62573273 1.14751892 4.149194  ]]\n"
          ],
          "name": "stdout"
        }
      ]
    },
    {
      "cell_type": "markdown",
      "metadata": {
        "id": "4XIgDRMPaOSR",
        "colab_type": "text"
      },
      "source": [
        "What are the properties of $A$?"
      ]
    },
    {
      "cell_type": "markdown",
      "metadata": {
        "id": "jLimKRmRaY8p",
        "colab_type": "text"
      },
      "source": [
        "Compute the $LU$ factorization using ```scipy.linalg.lu```.\n",
        "\n",
        "The general code allows to change the order of the lines of $A$ in case the submatrix is not invertible at step $k$. \n",
        "In our case the permutation matrix will be identity (no line exchange).\n",
        "\n",
        "Check that all the matrices have the expected form."
      ]
    },
    {
      "cell_type": "code",
      "metadata": {
        "id": "9uHiDAVmUina",
        "colab_type": "code",
        "colab": {
          "base_uri": "https://localhost:8080/",
          "height": 289
        },
        "outputId": "47e36d31-a1c1-4bbd-d6e3-ee5a6313990b"
      },
      "source": [
        "P, L, U = scipy.linalg.lu(A)\n",
        "print(P)\n",
        "print(L)\n",
        "print(U)"
      ],
      "execution_count": 19,
      "outputs": [
        {
          "output_type": "stream",
          "text": [
            "[[1. 0. 0. 0. 0.]\n",
            " [0. 1. 0. 0. 0.]\n",
            " [0. 0. 1. 0. 0.]\n",
            " [0. 0. 0. 1. 0.]\n",
            " [0. 0. 0. 0. 1.]]\n",
            "[[ 1.          0.          0.          0.          0.        ]\n",
            " [ 0.73194723  1.          0.          0.          0.        ]\n",
            " [ 0.59579669  0.37428061  1.          0.          0.        ]\n",
            " [ 0.42948552  0.23283327 -0.13804752  1.          0.        ]\n",
            " [ 0.87921461  0.49117233  0.62469949 -0.34191611  1.        ]]\n",
            "[[ 3.01565914  2.20730335  1.79671975  1.29518193  2.65141158]\n",
            " [ 0.          2.28495686  0.85521505  0.53201397  1.12230759]\n",
            " [ 0.          0.          1.00203781 -0.13832883  0.62597251]\n",
            " [ 0.          0.          0.          0.48585176 -0.16612054]\n",
            " [ 0.          0.          0.          0.          0.81894377]]\n"
          ],
          "name": "stdout"
        }
      ]
    },
    {
      "cell_type": "markdown",
      "metadata": {
        "id": "wKrpvbV1dD5s",
        "colab_type": "text"
      },
      "source": [
        "**Question:** What is done with the above line?"
      ]
    },
    {
      "cell_type": "code",
      "metadata": {
        "id": "ywxOHOeeVusT",
        "colab_type": "code",
        "colab": {
          "base_uri": "https://localhost:8080/",
          "height": 35
        },
        "outputId": "dabafdc5-de7c-405c-a280-96ac662bda96"
      },
      "source": [
        "print(np.linalg.norm(L @ U-A, np.inf))"
      ],
      "execution_count": 20,
      "outputs": [
        {
          "output_type": "stream",
          "text": [
            "2.220446049250313e-16\n"
          ],
          "name": "stdout"
        }
      ]
    },
    {
      "cell_type": "markdown",
      "metadata": {
        "id": "UCFB3NHid5ly",
        "colab_type": "text"
      },
      "source": [
        "# Solve a linear system with standard solver\n",
        "The function ```np.linalg.solve``` solves a general linear system $Ax =b$."
      ]
    },
    {
      "cell_type": "code",
      "metadata": {
        "id": "jz5UK2Q5Wa3T",
        "colab_type": "code",
        "colab": {
          "base_uri": "https://localhost:8080/",
          "height": 35
        },
        "outputId": "030d7d74-6d27-4567-e7f7-cbbbe584b4f7"
      },
      "source": [
        "b = np.random.rand(n)\n",
        "xs = np.linalg.solve(A,b)\n",
        "print(xs)\n"
      ],
      "execution_count": 21,
      "outputs": [
        {
          "output_type": "stream",
          "text": [
            "[-0.60279776 -0.0660419  -0.0765983   1.35896581  0.14515889]\n"
          ],
          "name": "stdout"
        }
      ]
    },
    {
      "cell_type": "markdown",
      "metadata": {
        "id": "40U1uz5IePkK",
        "colab_type": "text"
      },
      "source": [
        "**Exercise:**\n",
        "\n",
        "Code a function ```solve_given_lu(b,L,U)``` that will solve $A x = b$ given the $LU$ factorization of $A$.\n",
        "You should use the function ```scipy.linalg.solve_triangular``` for intermediary steps (read the doc)."
      ]
    },
    {
      "cell_type": "code",
      "metadata": {
        "id": "VJBfomlpXa9o",
        "colab_type": "code",
        "colab": {
          "base_uri": "https://localhost:8080/",
          "height": 35
        },
        "outputId": "6d7821a1-92ff-4681-f54c-c59a2877e3ef"
      },
      "source": [
        "def solve_given_lu(b,L,U):\n",
        "\n",
        "  # TODO\n",
        "  \n",
        "  return(x)\n",
        "\n",
        "print(solve_given_lu(b,L,U))"
      ],
      "execution_count": 22,
      "outputs": [
        {
          "output_type": "stream",
          "text": [
            "[-0.60279776 -0.0660419  -0.0765983   1.35896581  0.14515889]\n"
          ],
          "name": "stdout"
        }
      ]
    },
    {
      "cell_type": "markdown",
      "metadata": {
        "id": "HBx0Bg2NfJ9I",
        "colab_type": "text"
      },
      "source": [
        "# Performance for large size linear systems"
      ]
    },
    {
      "cell_type": "code",
      "metadata": {
        "id": "RlYAnIG_XwJN",
        "colab_type": "code",
        "colab": {
          "base_uri": "https://localhost:8080/",
          "height": 162
        },
        "outputId": "398b84d5-c5b9-4110-c9aa-4ce7f83826dd"
      },
      "source": [
        "n = 10 # up to 5*10**3\n",
        "M = np.random.rand(n,2*n)\n",
        "A = M.dot(M.T)\n",
        "b = np.random.rand(n)\n",
        "\n",
        "t = time.time()\n",
        "P, L, U = scipy.linalg.lu(A)\n",
        "print('Time for LU factorization:')\n",
        "print(time.time()-t)\n",
        "\n",
        "t = time.time()\n",
        "xs = np.linalg.solve(A,b)\n",
        "print('Time solving a system:')\n",
        "print(time.time()-t)\n",
        "\n",
        "t = time.time()\n",
        "y = scipy.linalg.solve_triangular(L,b, lower=True)\n",
        "x = scipy.linalg.solve_triangular(U,y)\n",
        "print('Time solving with LU precomputed:')\n",
        "print(time.time()-t)\n",
        "\n",
        "print('Check error:')\n",
        "print(np.linalg.norm(x-xs,np.inf))\n"
      ],
      "execution_count": 16,
      "outputs": [
        {
          "output_type": "stream",
          "text": [
            "Time for LU factorization:\n",
            "0.026930809020996094\n",
            "Time solving a system:\n",
            "0.0005490779876708984\n",
            "Time solving with LU precomputed:\n",
            "0.0007128715515136719\n",
            "Check error:\n",
            "1.6653345369377348e-16\n"
          ],
          "name": "stdout"
        }
      ]
    },
    {
      "cell_type": "markdown",
      "metadata": {
        "id": "kobAMXSbbZOC",
        "colab_type": "text"
      },
      "source": [
        "**Question:** For which size is it a efficient strategy to store the LU factorization if you have:\n",
        "- 10 linear systems to solve with $A$?\n",
        "- 2 linear systems to solve with $A$?"
      ]
    },
    {
      "cell_type": "markdown",
      "metadata": {
        "id": "pRy9xdmfcu_9",
        "colab_type": "text"
      },
      "source": [
        "**Question:** Given the properties of $A$ what is a good alternative to $LU$ factorization? \n",
        "\n",
        "Do the same study with this alternative factorization."
      ]
    },
    {
      "cell_type": "code",
      "metadata": {
        "id": "jFW4_YjVX-11",
        "colab_type": "code",
        "colab": {}
      },
      "source": [
        ""
      ],
      "execution_count": null,
      "outputs": []
    }
  ]
}