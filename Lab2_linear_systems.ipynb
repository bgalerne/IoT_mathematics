{
  "nbformat": 4,
  "nbformat_minor": 0,
  "metadata": {
    "colab": {
      "name": "Lab2_linear_systems.ipynb",
      "provenance": [],
      "collapsed_sections": [],
      "authorship_tag": "ABX9TyMKwTyLqb27y2+ObTgvIOlK",
      "include_colab_link": true
    },
    "kernelspec": {
      "name": "python3",
      "display_name": "Python 3"
    }
  },
  "cells": [
    {
      "cell_type": "markdown",
      "metadata": {
        "id": "view-in-github",
        "colab_type": "text"
      },
      "source": [
        "<a href=\"https://colab.research.google.com/github/bgalerne/IoT_mathematics/blob/master/Lab2_linear_systems.ipynb\" target=\"_parent\"><img src=\"https://colab.research.google.com/assets/colab-badge.svg\" alt=\"Open In Colab\"/></a>"
      ]
    },
    {
      "cell_type": "code",
      "metadata": {
        "id": "dmlDKqWxTjMD"
      },
      "source": [
        "import numpy as np\n",
        "import matplotlib.pyplot as plt\n",
        "import time\n",
        "import scipy.linalg"
      ],
      "execution_count": 1,
      "outputs": []
    },
    {
      "cell_type": "markdown",
      "metadata": {
        "id": "pIZXM4-VUUop"
      },
      "source": [
        "# Create some matrix $A$"
      ]
    },
    {
      "cell_type": "code",
      "metadata": {
        "id": "1DnFb-t5UTYy",
        "colab": {
          "base_uri": "https://localhost:8080/"
        },
        "outputId": "a2e3997b-715c-45ff-b27b-5255bbe4ec60"
      },
      "source": [
        "n=5\n",
        "M = np.random.rand(n,2*n)\n",
        "print(M)\n",
        "A = M.dot(M.T)\n",
        "print(A)"
      ],
      "execution_count": 2,
      "outputs": [
        {
          "output_type": "stream",
          "name": "stdout",
          "text": [
            "[[0.90248683 0.76301785 0.62802274 0.42770629 0.88502724 0.06799525\n",
            "  0.13009779 0.31650824 0.35161797 0.23361415]\n",
            " [0.78301785 0.55656948 0.47454412 0.66811003 0.50095522 0.89344761\n",
            "  0.7354252  0.66032979 0.02287292 0.39396426]\n",
            " [0.87260417 0.99834433 0.36466263 0.20467584 0.4066677  0.35085654\n",
            "  0.33478119 0.89735296 0.24736108 0.22946455]\n",
            " [0.76657442 0.77832598 0.38807316 0.36839892 0.60836787 0.88753907\n",
            "  0.19817867 0.34378313 0.40747299 0.07424135]\n",
            " [0.06509969 0.05389877 0.48641584 0.60351689 0.52993751 0.29837845\n",
            "  0.09890803 0.58748789 0.01619632 0.94640559]]\n",
            "[[3.05723418 2.62397947 2.71775111 2.58096726 1.57838409]\n",
            " [2.62397947 3.7762711  3.00071546 2.97278187 2.0809702 ]\n",
            " [2.71775111 3.00071546 3.25264166 2.71434396 1.5131847 ]\n",
            " [2.58096726 2.97278187 2.71434396 2.96659091 1.38860583]\n",
            " [1.57838409 2.0809702  1.5131847  1.38860583 2.22871019]]\n"
          ]
        }
      ]
    },
    {
      "cell_type": "markdown",
      "metadata": {
        "id": "4XIgDRMPaOSR"
      },
      "source": [
        "**Question:** What are the properties of $A$?"
      ]
    },
    {
      "cell_type": "markdown",
      "metadata": {
        "id": "jLimKRmRaY8p"
      },
      "source": [
        "Compute the $LU$ factorization using ```scipy.linalg.lu```.\n",
        "\n",
        "The general code allows to change the order of the lines of $A$ in case the submatrix is not invertible at step $k$. \n",
        "In our case the permutation matrix will be identity (no line exchange).\n",
        "\n",
        "Check that all the matrices have the expected form."
      ]
    },
    {
      "cell_type": "code",
      "metadata": {
        "id": "9uHiDAVmUina",
        "colab": {
          "base_uri": "https://localhost:8080/"
        },
        "outputId": "c94a0304-ecdd-4b8a-bbb3-3247acf11407"
      },
      "source": [
        "P, L, U = scipy.linalg.lu(A)\n",
        "print(P)\n",
        "print(L)\n",
        "print(U)"
      ],
      "execution_count": 4,
      "outputs": [
        {
          "output_type": "stream",
          "name": "stdout",
          "text": [
            "[[1. 0. 0. 0. 0.]\n",
            " [0. 1. 0. 0. 0.]\n",
            " [0. 0. 1. 0. 0.]\n",
            " [0. 0. 0. 1. 0.]\n",
            " [0. 0. 0. 0. 1.]]\n",
            "[[ 1.          0.          0.          0.          0.        ]\n",
            " [ 0.85828541  1.          0.          0.          0.        ]\n",
            " [ 0.88895745  0.43834945  1.          0.          0.        ]\n",
            " [ 0.84421641  0.49704847  0.1616207   1.          0.        ]\n",
            " [ 0.51627844  0.47650639 -0.38301892 -0.6832718   1.        ]]\n",
            "[[ 3.05723418  2.62397947  2.71775111  2.58096726  1.57838409]\n",
            " [ 0.          1.52414781  0.66810935  0.75757534  0.72626617]\n",
            " [ 0.          0.          0.54381119  0.08789115 -0.20828998]\n",
            " [ 0.          0.          0.          0.39693931 -0.27121744]\n",
            " [ 0.          0.          0.          0.          0.80265981]]\n"
          ]
        }
      ]
    },
    {
      "cell_type": "markdown",
      "metadata": {
        "id": "wKrpvbV1dD5s"
      },
      "source": [
        "**Question:** What is done with the above line?"
      ]
    },
    {
      "cell_type": "code",
      "metadata": {
        "id": "ywxOHOeeVusT",
        "colab": {
          "base_uri": "https://localhost:8080/"
        },
        "outputId": "2875668d-bef4-474d-e40b-ffd1aa97d8fd"
      },
      "source": [
        "print(np.linalg.norm(L @ U-A, np.inf))"
      ],
      "execution_count": 5,
      "outputs": [
        {
          "output_type": "stream",
          "name": "stdout",
          "text": [
            "4.440892098500626e-16\n"
          ]
        }
      ]
    },
    {
      "cell_type": "markdown",
      "metadata": {
        "id": "UCFB3NHid5ly"
      },
      "source": [
        "# Solve a linear system with standard solver\n",
        "The function ```np.linalg.solve``` solves a general linear system $Ax =b$."
      ]
    },
    {
      "cell_type": "code",
      "metadata": {
        "id": "jz5UK2Q5Wa3T",
        "colab": {
          "base_uri": "https://localhost:8080/"
        },
        "outputId": "32135e9e-b995-450f-f2b4-651995ecc29a"
      },
      "source": [
        "b = np.random.rand(n)\n",
        "xs = np.linalg.solve(A,b)\n",
        "print(xs)\n"
      ],
      "execution_count": 6,
      "outputs": [
        {
          "output_type": "stream",
          "name": "stdout",
          "text": [
            "[ 0.36219052  1.03055648  0.38896451 -1.35599856 -0.47075248]\n"
          ]
        }
      ]
    },
    {
      "cell_type": "markdown",
      "metadata": {
        "id": "40U1uz5IePkK"
      },
      "source": [
        "**Exercise:**\n",
        "\n",
        "Code a function ```solve_given_lu(b,L,U)``` that will solve $A x = b$ given the $LU$ factorization of $A$.\n",
        "You should use the function ```scipy.linalg.solve_triangular``` for intermediary steps (read the doc)."
      ]
    },
    {
      "cell_type": "code",
      "metadata": {
        "id": "VJBfomlpXa9o"
      },
      "source": [
        "def solve_given_lu(b,L,U):\n",
        "\n",
        "  # TODO\n",
        "  \n",
        "  return(x)\n",
        "\n",
        "print(solve_given_lu(b,L,U))"
      ],
      "execution_count": null,
      "outputs": []
    },
    {
      "cell_type": "markdown",
      "metadata": {
        "id": "HBx0Bg2NfJ9I"
      },
      "source": [
        "# Performance for large size linear systems"
      ]
    },
    {
      "cell_type": "code",
      "metadata": {
        "id": "RlYAnIG_XwJN"
      },
      "source": [
        "n = 10 # up to 5*10**3\n",
        "M = np.random.rand(n,2*n)\n",
        "A = M.dot(M.T)\n",
        "b = np.random.rand(n)\n",
        "\n",
        "t = time.time()\n",
        "P, L, U = scipy.linalg.lu(A)\n",
        "print('Time for LU factorization:')\n",
        "print(time.time()-t)\n",
        "\n",
        "t = time.time()\n",
        "xs = np.linalg.solve(A,b)\n",
        "print('Time solving a system:')\n",
        "print(time.time()-t)\n",
        "\n",
        "t = time.time()\n",
        "y = scipy.linalg.solve_triangular(L,b, lower=True)\n",
        "x = scipy.linalg.solve_triangular(U,y)\n",
        "print('Time solving with LU precomputed:')\n",
        "print(time.time()-t)\n",
        "\n",
        "print('Check error:')\n",
        "print(np.linalg.norm(x-xs,np.inf))\n"
      ],
      "execution_count": null,
      "outputs": []
    },
    {
      "cell_type": "markdown",
      "metadata": {
        "id": "kobAMXSbbZOC"
      },
      "source": [
        "**Question:** For which size is it an efficient strategy to store the LU factorization if you have:\n",
        "- 10 linear systems to solve with $A$?\n",
        "- 2 linear systems to solve with $A$?"
      ]
    },
    {
      "cell_type": "markdown",
      "metadata": {
        "id": "pRy9xdmfcu_9"
      },
      "source": [
        "**Question:** Given the properties of $A$ what is a good alternative to $LU$ factorization? \n",
        "\n",
        "Do the same study with this alternative factorization."
      ]
    }
  ]
}