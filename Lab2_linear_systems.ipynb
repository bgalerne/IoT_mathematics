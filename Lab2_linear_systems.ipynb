{
  "nbformat": 4,
  "nbformat_minor": 0,
  "metadata": {
    "colab": {
      "name": "Lab2_linear_systems.ipynb",
      "provenance": [],
      "collapsed_sections": [],
      "authorship_tag": "ABX9TyPgXmDGbDPMyWsBob95KJJ5",
      "include_colab_link": true
    },
    "kernelspec": {
      "name": "python3",
      "display_name": "Python 3"
    }
  },
  "cells": [
    {
      "cell_type": "markdown",
      "metadata": {
        "id": "view-in-github",
        "colab_type": "text"
      },
      "source": [
        "<a href=\"https://colab.research.google.com/github/bgalerne/IoT_mathematics/blob/master/Lab2_linear_systems.ipynb\" target=\"_parent\"><img src=\"https://colab.research.google.com/assets/colab-badge.svg\" alt=\"Open In Colab\"/></a>"
      ]
    },
    {
      "cell_type": "code",
      "metadata": {
        "id": "dmlDKqWxTjMD",
        "colab_type": "code",
        "colab": {}
      },
      "source": [
        "import numpy as np\n",
        "import matplotlib.pyplot as plt\n",
        "import time\n",
        "import scipy.linalg"
      ],
      "execution_count": null,
      "outputs": []
    },
    {
      "cell_type": "markdown",
      "metadata": {
        "id": "pIZXM4-VUUop",
        "colab_type": "text"
      },
      "source": [
        "# Create some matrix $A$"
      ]
    },
    {
      "cell_type": "code",
      "metadata": {
        "id": "1DnFb-t5UTYy",
        "colab_type": "code",
        "colab": {}
      },
      "source": [
        "n=5\n",
        "M = np.random.rand(n,2*n)\n",
        "print(M)\n",
        "A = M.dot(M.T)\n",
        "print(A)"
      ],
      "execution_count": null,
      "outputs": []
    },
    {
      "cell_type": "markdown",
      "metadata": {
        "id": "4XIgDRMPaOSR",
        "colab_type": "text"
      },
      "source": [
        "What are the properties of $A$?"
      ]
    },
    {
      "cell_type": "markdown",
      "metadata": {
        "id": "jLimKRmRaY8p",
        "colab_type": "text"
      },
      "source": [
        "Compute the $LU$ factorization using ```scipy.linalg.lu```.\n",
        "\n",
        "The general code allows to change the order of the lines of $A$ in case the submatrix is not invertible at step $k$. \n",
        "In our case the permutation matrix will be identity (no line exchange).\n",
        "\n",
        "Check that all the matrices have the expected form."
      ]
    },
    {
      "cell_type": "code",
      "metadata": {
        "id": "9uHiDAVmUina",
        "colab_type": "code",
        "colab": {}
      },
      "source": [
        "P, L, U = scipy.linalg.lu(A)\n",
        "print(P)\n",
        "print(L)\n",
        "print(U)"
      ],
      "execution_count": null,
      "outputs": []
    },
    {
      "cell_type": "markdown",
      "metadata": {
        "id": "wKrpvbV1dD5s",
        "colab_type": "text"
      },
      "source": [
        "**Question:** What is done with the above line?"
      ]
    },
    {
      "cell_type": "code",
      "metadata": {
        "id": "ywxOHOeeVusT",
        "colab_type": "code",
        "colab": {}
      },
      "source": [
        "print(np.linalg.norm(L @ U-A, np.inf))"
      ],
      "execution_count": null,
      "outputs": []
    },
    {
      "cell_type": "markdown",
      "metadata": {
        "id": "UCFB3NHid5ly",
        "colab_type": "text"
      },
      "source": [
        "# Solve a linear system with standard solver\n",
        "The function ```np.linalg.solve``` solves a general linear system $Ax =b$."
      ]
    },
    {
      "cell_type": "code",
      "metadata": {
        "id": "jz5UK2Q5Wa3T",
        "colab_type": "code",
        "colab": {}
      },
      "source": [
        "b = np.random.rand(n)\n",
        "xs = np.linalg.solve(A,b)\n",
        "print(xs)\n"
      ],
      "execution_count": null,
      "outputs": []
    },
    {
      "cell_type": "markdown",
      "metadata": {
        "id": "40U1uz5IePkK",
        "colab_type": "text"
      },
      "source": [
        "**Exercise:**\n",
        "\n",
        "Code a function ```solve_given_lu(b,L,U)``` that will solve $A x = b$ given the $LU$ factorization of $A$.\n",
        "You should use the function ```scipy.linalg.solve_triangular``` for intermediary steps (read the doc)."
      ]
    },
    {
      "cell_type": "code",
      "metadata": {
        "id": "VJBfomlpXa9o",
        "colab_type": "code",
        "colab": {}
      },
      "source": [
        "def solve_given_lu(b,L,U):\n",
        "\n",
        "  # TODO\n",
        "  \n",
        "  return(x)\n",
        "\n",
        "print(solve_given_lu(b,L,U))"
      ],
      "execution_count": null,
      "outputs": []
    },
    {
      "cell_type": "markdown",
      "metadata": {
        "id": "HBx0Bg2NfJ9I",
        "colab_type": "text"
      },
      "source": [
        "# Performance for large size linear systems"
      ]
    },
    {
      "cell_type": "code",
      "metadata": {
        "id": "RlYAnIG_XwJN",
        "colab_type": "code",
        "colab": {}
      },
      "source": [
        "n = 10 # up to 5*10**3\n",
        "M = np.random.rand(n,2*n)\n",
        "A = M.dot(M.T)\n",
        "b = np.random.rand(n)\n",
        "\n",
        "t = time.time()\n",
        "P, L, U = scipy.linalg.lu(A)\n",
        "print('Time for LU factorization:')\n",
        "print(time.time()-t)\n",
        "\n",
        "t = time.time()\n",
        "xs = np.linalg.solve(A,b)\n",
        "print('Time solving a system:')\n",
        "print(time.time()-t)\n",
        "\n",
        "t = time.time()\n",
        "y = scipy.linalg.solve_triangular(L,b, lower=True)\n",
        "x = scipy.linalg.solve_triangular(U,y)\n",
        "print('Time solving with LU precomputed:')\n",
        "print(time.time()-t)\n",
        "\n",
        "print('Check error:')\n",
        "print(np.linalg.norm(x-xs,np.inf))\n"
      ],
      "execution_count": null,
      "outputs": []
    },
    {
      "cell_type": "markdown",
      "metadata": {
        "id": "kobAMXSbbZOC",
        "colab_type": "text"
      },
      "source": [
        "**Question:** For which size is it a efficient strategy to store the LU factorization if you have:\n",
        "- 10 linear systems to solve with $A$?\n",
        "- 2 linear systems to solve with $A$?"
      ]
    },
    {
      "cell_type": "markdown",
      "metadata": {
        "id": "pRy9xdmfcu_9",
        "colab_type": "text"
      },
      "source": [
        "**Question:** Given the properties of $A$ what is a good alternative to $LU$ factorization? \n",
        "\n",
        "Do the same study with this alternative factorization."
      ]
    }
  ]
}