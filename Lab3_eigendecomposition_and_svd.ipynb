{
  "nbformat": 4,
  "nbformat_minor": 0,
  "metadata": {
    "colab": {
      "name": "Lab3_eigendecomposition_and_svd.ipynb",
      "provenance": [],
      "collapsed_sections": [],
      "authorship_tag": "ABX9TyPq6wujHiSDxWOTTs3+rh7L",
      "include_colab_link": true
    },
    "kernelspec": {
      "name": "python3",
      "display_name": "Python 3"
    }
  },
  "cells": [
    {
      "cell_type": "markdown",
      "metadata": {
        "id": "view-in-github",
        "colab_type": "text"
      },
      "source": [
        "<a href=\"https://colab.research.google.com/github/bgalerne/IoT_mathematics/blob/master/Lab3_eigendecomposition_and_svd.ipynb\" target=\"_parent\"><img src=\"https://colab.research.google.com/assets/colab-badge.svg\" alt=\"Open In Colab\"/></a>"
      ]
    },
    {
      "cell_type": "markdown",
      "metadata": {
        "id": "3_0N5yjgAAXm",
        "colab_type": "text"
      },
      "source": [
        "# SVD decomposition for background removal in video"
      ]
    },
    {
      "cell_type": "markdown",
      "metadata": {
        "id": "VWoG0FfEjzUO",
        "colab_type": "text"
      },
      "source": [
        "Adapted form:\n",
        "https://nbviewer.jupyter.org/github/fastai/numerical-linear-algebra-v2/blob/master/nbs/02-Background-Removal-with-SVD.ipynb#Load-and-Format-the-Data\n"
      ]
    },
    {
      "cell_type": "code",
      "metadata": {
        "id": "qqNK9Bq8j2wz",
        "colab_type": "code",
        "colab": {}
      },
      "source": [
        "import imageio\n",
        "imageio.plugins.ffmpeg.download()"
      ],
      "execution_count": null,
      "outputs": []
    },
    {
      "cell_type": "code",
      "metadata": {
        "id": "ljdcZ--Fj84m",
        "colab_type": "code",
        "colab": {}
      },
      "source": [
        "import moviepy.editor as mpe\n",
        "import numpy as np\n",
        "import scipy\n",
        "from tqdm import tqdm\n",
        "%matplotlib inline\n",
        "import matplotlib.pyplot as plt\n"
      ],
      "execution_count": null,
      "outputs": []
    },
    {
      "cell_type": "code",
      "metadata": {
        "id": "_EZl6Z7ekA9L",
        "colab_type": "code",
        "colab": {}
      },
      "source": [
        "np.set_printoptions(precision=4, suppress=True)"
      ],
      "execution_count": null,
      "outputs": []
    },
    {
      "cell_type": "markdown",
      "metadata": {
        "id": "Zk-x8J7H7aoU",
        "colab_type": "text"
      },
      "source": [
        "# Download video data:\n",
        "\n",
        "Full video can be seen here (middle screen):\n",
        "https://www.youtube.com/watch?v=VcJIpf_X-iA\n",
        "\n",
        "Source: http://jacarini.dinf.usherbrooke.ca/dataset2012/"
      ]
    },
    {
      "cell_type": "code",
      "metadata": {
        "id": "TWPpO-EqnS0E",
        "colab_type": "code",
        "colab": {}
      },
      "source": [
        "!wget http://jacarini.dinf.usherbrooke.ca/static/dataset/intermittentObjectMotion/sofa.zip\n"
      ],
      "execution_count": null,
      "outputs": []
    },
    {
      "cell_type": "code",
      "metadata": {
        "id": "v-Dy4V6znUTF",
        "colab_type": "code",
        "colab": {}
      },
      "source": [
        "!unzip sofa.zip"
      ],
      "execution_count": null,
      "outputs": []
    },
    {
      "cell_type": "code",
      "metadata": {
        "id": "ETiyNkjWnuNY",
        "colab_type": "code",
        "colab": {}
      },
      "source": [
        "A = imageio.imread('sofa/input/in000001.jpg')[1::3,1::3,1]\n",
        "h, w = A.shape\n",
        "Npix = h*w\n",
        "A = A.ravel()\n",
        "#G = A[:,:,1]\n",
        "#print(G.shape)\n",
        "B = imageio.imread('sofa/input/in000002.jpg')[:,:,1]\n",
        "\n",
        "Nframe = 2750\n",
        "M = np.zeros((Npix,Nframe))\n",
        "\n",
        "\n",
        "for i in tqdm(range(Nframe-1)):\n",
        "  str='sofa/input/in%06d.jpg' % (i+2)\n",
        "  M[:,i-1]=imageio.imread(str)[1::3,1::3,1].ravel()\n",
        "\n",
        "\n"
      ],
      "execution_count": null,
      "outputs": []
    },
    {
      "cell_type": "markdown",
      "metadata": {
        "id": "UyrF26WcAg49",
        "colab_type": "text"
      },
      "source": [
        "**Question:** Explain each step."
      ]
    },
    {
      "cell_type": "code",
      "metadata": {
        "id": "6pvoi_LKvWZ5",
        "colab_type": "code",
        "colab": {}
      },
      "source": [
        "fig, ax = plt.subplots(figsize=(20, 20))\n",
        "plt.imshow(M,cmap='gray')\n",
        "print(M.shape)"
      ],
      "execution_count": null,
      "outputs": []
    },
    {
      "cell_type": "markdown",
      "metadata": {
        "id": "1ZhYJbKFAxav",
        "colab_type": "text"
      },
      "source": [
        "# Compute SVD of spatial x times data:"
      ]
    },
    {
      "cell_type": "code",
      "metadata": {
        "id": "Ay8y0B8Gsq2n",
        "colab_type": "code",
        "colab": {}
      },
      "source": [
        "U, s, V = np.linalg.svd(M, full_matrices=False)\n",
        "\n"
      ],
      "execution_count": null,
      "outputs": []
    },
    {
      "cell_type": "code",
      "metadata": {
        "id": "iT-0E4EUoc5I",
        "colab_type": "code",
        "colab": {}
      },
      "source": [
        "# save on disc\n",
        "np.save(\"U.npy\", U)\n",
        "np.save(\"s.npy\", s)\n",
        "np.save(\"V.npy\", V)"
      ],
      "execution_count": null,
      "outputs": []
    },
    {
      "cell_type": "code",
      "metadata": {
        "id": "wCn0zpFPxwQ4",
        "colab_type": "code",
        "colab": {}
      },
      "source": [
        "# #load on disc:\n",
        "# U = np.load(\"U.npy\")\n",
        "# s = np.load(\"s.npy\")\n",
        "# V = np.load(\"V.npy\")"
      ],
      "execution_count": null,
      "outputs": []
    },
    {
      "cell_type": "code",
      "metadata": {
        "id": "WkU5R84LvyR8",
        "colab_type": "code",
        "colab": {}
      },
      "source": [
        "print(U.shape)\n",
        "print(s.shape)\n",
        "print(V.shape)"
      ],
      "execution_count": null,
      "outputs": []
    },
    {
      "cell_type": "code",
      "metadata": {
        "id": "0j34Phpvv6wD",
        "colab_type": "code",
        "colab": {}
      },
      "source": [
        "RM = U @ np.diag(s) @ V\n",
        "np.allclose(M, RM)"
      ],
      "execution_count": null,
      "outputs": []
    },
    {
      "cell_type": "code",
      "metadata": {
        "id": "8AdPlop-wRFB",
        "colab_type": "code",
        "colab": {}
      },
      "source": [
        "np.set_printoptions(suppress=True, precision=0)"
      ],
      "execution_count": null,
      "outputs": []
    },
    {
      "cell_type": "code",
      "metadata": {
        "id": "AorRgCd4wfUq",
        "colab_type": "code",
        "colab": {}
      },
      "source": [
        "s[0::50]"
      ],
      "execution_count": null,
      "outputs": []
    },
    {
      "cell_type": "code",
      "metadata": {
        "id": "BcaixUV3wxjt",
        "colab_type": "code",
        "colab": {}
      },
      "source": [
        "low_rank = np.expand_dims(U[:,0], 1) * s[0] * np.expand_dims(V[0,:], 0)"
      ],
      "execution_count": null,
      "outputs": []
    },
    {
      "cell_type": "code",
      "metadata": {
        "id": "MFX7Gk8hw7BF",
        "colab_type": "code",
        "colab": {}
      },
      "source": [
        "plt.imshow(np.reshape(low_rank[:,0], (h,w)), cmap='gray');"
      ],
      "execution_count": null,
      "outputs": []
    },
    {
      "cell_type": "markdown",
      "metadata": {
        "id": "-QBLyFNm8VrZ",
        "colab_type": "text"
      },
      "source": [
        "# Display frame VS frame minus background"
      ]
    },
    {
      "cell_type": "code",
      "metadata": {
        "id": "bCimP2hyw9y9",
        "colab_type": "code",
        "colab": {}
      },
      "source": [
        "fnb = np.arange(0,Nframe,300) # frame number\n",
        "print(fnb)\n",
        "fig, ax = plt.subplots(len(fnb),2,figsize=(20*len(fnb), 20*len(fnb)))\n",
        "for i in range(len(fnb)):\n",
        "  ax[i,0].imshow(np.reshape(M[:,fnb[i]], (h,w)), cmap='gray');\n",
        "  ax[i,1].imshow(np.reshape(np.abs(M[:,fnb[i]] - low_rank[:,fnb[i]]), (h,w)), cmap='gray');"
      ],
      "execution_count": null,
      "outputs": []
    },
    {
      "cell_type": "markdown",
      "metadata": {
        "id": "E-Jy4JYo-vp7",
        "colab_type": "text"
      },
      "source": [
        "# Make an extract movie"
      ]
    },
    {
      "cell_type": "code",
      "metadata": {
        "id": "kgyEO6ZLxIHq",
        "colab_type": "code",
        "colab": {}
      },
      "source": [
        "from moviepy.video.io.bindings import mplfig_to_npimage"
      ],
      "execution_count": null,
      "outputs": []
    },
    {
      "cell_type": "code",
      "metadata": {
        "id": "FniB26A7xUWU",
        "colab_type": "code",
        "colab": {}
      },
      "source": [
        "def make_video(matrix, dims, filename):\n",
        "    mat_reshaped = np.reshape(matrix, (dims[0], dims[1], -1))\n",
        "    \n",
        "    fig, ax = plt.subplots()\n",
        "    def make_frame(t):\n",
        "        ax.clear()\n",
        "        ax.imshow(mat_reshaped[...,int(t*fps)])\n",
        "        return mplfig_to_npimage(fig)\n",
        "    \n",
        "    animation = mpe.VideoClip(make_frame, duration=int(10))\n",
        "    animation.write_videofile(filename + '.mp4', fps=fps)"
      ],
      "execution_count": null,
      "outputs": []
    },
    {
      "cell_type": "code",
      "metadata": {
        "id": "L_WQmTHIxbMv",
        "colab_type": "code",
        "colab": {}
      },
      "source": [
        "dims = (h,w)\n",
        "fps = 30\n",
        "make_video(np.abs(M - low_rank), dims, \"figures2\")"
      ],
      "execution_count": null,
      "outputs": []
    },
    {
      "cell_type": "code",
      "metadata": {
        "id": "iD6o00WNzW-8",
        "colab_type": "code",
        "colab": {}
      },
      "source": [
        "mpe.VideoFileClip(\"figures2.mp4\").ipython_display(width=300)"
      ],
      "execution_count": null,
      "outputs": []
    }
  ]
}