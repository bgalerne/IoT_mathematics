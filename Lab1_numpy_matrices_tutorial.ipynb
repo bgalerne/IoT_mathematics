{
  "nbformat": 4,
  "nbformat_minor": 0,
  "metadata": {
    "colab": {
      "name": "Lab1_numpy_matrices_tutorial.ipynb",
      "provenance": [],
      "collapsed_sections": [],
      "authorship_tag": "ABX9TyMHRW21scliOzYd7gqxIzSO",
      "include_colab_link": true
    },
    "kernelspec": {
      "name": "python3",
      "display_name": "Python 3"
    }
  },
  "cells": [
    {
      "cell_type": "markdown",
      "metadata": {
        "id": "view-in-github",
        "colab_type": "text"
      },
      "source": [
        "<a href=\"https://colab.research.google.com/github/bgalerne/IoT_mathematics/blob/master/Lab1_numpy_matrices_tutorial.ipynb\" target=\"_parent\"><img src=\"https://colab.research.google.com/assets/colab-badge.svg\" alt=\"Open In Colab\"/></a>"
      ]
    },
    {
      "cell_type": "code",
      "metadata": {
        "id": "-C96t04RUOv5",
        "colab_type": "code",
        "colab": {}
      },
      "source": [
        "import numpy as np\n",
        "import matplotlib.pyplot as plt"
      ],
      "execution_count": 4,
      "outputs": []
    },
    {
      "cell_type": "markdown",
      "metadata": {
        "id": "Fxw9z2cnUrmx",
        "colab_type": "text"
      },
      "source": [
        "# Numpty tutorial for matrices\n",
        "\n",
        "NumPy: \"The fundamental package for scientific computing with Python\"\n",
        "https://numpy.org/\n"
      ]
    },
    {
      "cell_type": "markdown",
      "metadata": {
        "id": "kTYH9OMPU7ec",
        "colab_type": "text"
      },
      "source": [
        "# Vectors and matrices"
      ]
    },
    {
      "cell_type": "markdown",
      "metadata": {
        "id": "XK2RfztTWZaq",
        "colab_type": "text"
      },
      "source": [
        "## From Python list to numpy array"
      ]
    },
    {
      "cell_type": "code",
      "metadata": {
        "id": "u51WKsKcUsW7",
        "colab_type": "code",
        "colab": {
          "base_uri": "https://localhost:8080/",
          "height": 216
        },
        "outputId": "34da1f53-ba98-46c2-9f4a-6e5fc59b1538"
      },
      "source": [
        "L = [1, 2, 3, 4]\n",
        "print(L)\n",
        "print(type(L))\n",
        "\n",
        "v = np.array(L)\n",
        "print(v)\n",
        "print(type(v))\n",
        "print(v.dtype)\n",
        "print(v.shape)\n",
        "\n",
        "w = np.arange(1,10,2)\n",
        "print(w)\n",
        "print(type(w))\n",
        "print(w.dtype)\n",
        "print(w.shape)\n"
      ],
      "execution_count": 12,
      "outputs": [
        {
          "output_type": "stream",
          "text": [
            "[1, 2, 3, 4]\n",
            "<class 'list'>\n",
            "[1 2 3 4]\n",
            "<class 'numpy.ndarray'>\n",
            "int64\n",
            "(4,)\n",
            "[1 3 5 7 9]\n",
            "<class 'numpy.ndarray'>\n",
            "int64\n",
            "(5,)\n",
            "(5,)\n"
          ],
          "name": "stdout"
        }
      ]
    },
    {
      "cell_type": "markdown",
      "metadata": {
        "id": "WYiaUFRPXNF3",
        "colab_type": "text"
      },
      "source": [
        "## Numpy array and column vectors"
      ]
    },
    {
      "cell_type": "code",
      "metadata": {
        "id": "915aujr1Wh8f",
        "colab_type": "code",
        "colab": {
          "base_uri": "https://localhost:8080/",
          "height": 271
        },
        "outputId": "45703490-fe0b-478d-8369-5042f769d71b"
      },
      "source": [
        "v = np.arange(1,10,2)\n",
        "w = v-3\n",
        "print([v,w])\n",
        "print(v*w)\n",
        "\n",
        "# dot is the dot product, but also the matrix product\n",
        "print(v.dot(w))\n",
        "print((v.dot(w)).shape)\n",
        "\n",
        "print(v.shape)\n",
        "v.shape = (5,1)\n",
        "print(v.shape)\n",
        "\n",
        "# print(v.dot(w)) # error\n",
        "\n",
        "w.shape = (5,1)\n",
        "print(v.dot(w.T))\n",
        "print((v.dot(w.T)).shape)\n",
        "print(v.T.dot(w))\n",
        "print((v.T.dot(w)).shape)\n",
        "\n",
        "\n",
        "\n"
      ],
      "execution_count": 45,
      "outputs": [
        {
          "output_type": "stream",
          "text": [
            "[array([1, 3, 5, 7, 9]), array([-2,  0,  2,  4,  6])]\n",
            "[-2  0 10 28 54]\n",
            "90\n",
            "()\n",
            "(5,)\n",
            "(5, 1)\n",
            "[[ -2   0   2   4   6]\n",
            " [ -6   0   6  12  18]\n",
            " [-10   0  10  20  30]\n",
            " [-14   0  14  28  42]\n",
            " [-18   0  18  36  54]]\n",
            "(5, 5)\n",
            "[[90]]\n",
            "(1, 1)\n"
          ],
          "name": "stdout"
        }
      ]
    },
    {
      "cell_type": "markdown",
      "metadata": {
        "id": "8xkMzV3Eap86",
        "colab_type": "text"
      },
      "source": [
        "## From Python double list to numpy 2D array\n",
        "\n",
        "Matrices in numpy are 2D arrays. "
      ]
    },
    {
      "cell_type": "code",
      "metadata": {
        "id": "yPZ67VQZXl0_",
        "colab_type": "code",
        "colab": {
          "base_uri": "https://localhost:8080/",
          "height": 126
        },
        "outputId": "2516b276-06eb-47de-a5ee-af8707c29a1b"
      },
      "source": [
        "L = [[1,2,3],[4,5,6],[7,8,9]]\n",
        "print(L)\n",
        "print(type(L))\n",
        "print(L[0])\n",
        "print(type(L[0]))\n",
        "print(L[0][2])\n",
        "print(type(L[0][2]))"
      ],
      "execution_count": 30,
      "outputs": [
        {
          "output_type": "stream",
          "text": [
            "[[1, 2, 3], [4, 5, 6], [7, 8, 9]]\n",
            "<class 'list'>\n",
            "[1, 2, 3]\n",
            "<class 'list'>\n",
            "3\n",
            "<class 'int'>\n"
          ],
          "name": "stdout"
        }
      ]
    },
    {
      "cell_type": "code",
      "metadata": {
        "id": "nNggRMhZa9vv",
        "colab_type": "code",
        "colab": {
          "base_uri": "https://localhost:8080/",
          "height": 234
        },
        "outputId": "b74ccebe-3919-4427-a053-5b27d40e54c2"
      },
      "source": [
        "M = np.array(L)\n",
        "print(M)\n",
        "print(type(M))\n",
        "print(M.shape)\n",
        "print(M[0])\n",
        "print(type(M[0]))\n",
        "print(M[0][2])\n",
        "print(type(M[0][2]))\n",
        "print(M[0,2])\n",
        "print(type(M[0,2]))\n"
      ],
      "execution_count": 34,
      "outputs": [
        {
          "output_type": "stream",
          "text": [
            "[[1 2 3]\n",
            " [4 5 6]\n",
            " [7 8 9]]\n",
            "<class 'numpy.ndarray'>\n",
            "(3, 3)\n",
            "[1 2 3]\n",
            "<class 'numpy.ndarray'>\n",
            "3\n",
            "<class 'numpy.int64'>\n",
            "3\n",
            "<class 'numpy.int64'>\n",
            "[1 4 7 2 5 8 3 6 9]\n"
          ],
          "name": "stdout"
        }
      ]
    },
    {
      "cell_type": "markdown",
      "metadata": {
        "id": "k2V4fRcPeDxV",
        "colab_type": "text"
      },
      "source": [
        "### Flatten a matrix into a 1D array:\n",
        "\n",
        "np.flatten function: Return a flattened copy of the matrix.\n",
        "\n",
        "np.ravel: Same but does not make a copy."
      ]
    },
    {
      "cell_type": "code",
      "metadata": {
        "id": "ZWUJ2o5gbVVm",
        "colab_type": "code",
        "colab": {
          "base_uri": "https://localhost:8080/",
          "height": 89
        },
        "outputId": "c0d06ae0-c27f-46ad-d9e1-98a4218efb4f"
      },
      "source": [
        "# ‘C’ means to flatten in row-major (C-style) order (Numpy default). \n",
        "# ‘F’ means to flatten in column-major (Fortran-style) order. \n",
        "print(M.flatten('C')) \n",
        "print((M.flatten('C')).shape)   \n",
        "print(M.flatten('F'))\n",
        "print((M.flatten('F')).shape)\n",
        "\n"
      ],
      "execution_count": 38,
      "outputs": [
        {
          "output_type": "stream",
          "text": [
            "[1 2 3 4 5 6 7 8 9]\n",
            "(9,)\n",
            "[1 4 7 2 5 8 3 6 9]\n",
            "(9,)\n"
          ],
          "name": "stdout"
        }
      ]
    },
    {
      "cell_type": "markdown",
      "metadata": {
        "id": "LVA3Qfd5efEz",
        "colab_type": "text"
      },
      "source": [
        "### From 1D array to 2D array"
      ]
    },
    {
      "cell_type": "code",
      "metadata": {
        "id": "bz_oEqNieQkv",
        "colab_type": "code",
        "colab": {
          "base_uri": "https://localhost:8080/",
          "height": 53
        },
        "outputId": "584476f2-17d7-41f4-cebe-f8e78fd51ac4"
      },
      "source": [
        "a = np.arange(1,24,2)\n",
        "print(a)\n",
        "print(a.shape)"
      ],
      "execution_count": 46,
      "outputs": [
        {
          "output_type": "stream",
          "text": [
            "[ 1  3  5  7  9 11 13 15 17 19 21 23]\n",
            "(12,)\n"
          ],
          "name": "stdout"
        }
      ]
    },
    {
      "cell_type": "code",
      "metadata": {
        "id": "8V_dOvbWeuQE",
        "colab_type": "code",
        "colab": {
          "base_uri": "https://localhost:8080/",
          "height": 71
        },
        "outputId": "4af99417-2380-4d5d-8aee-78b56d2a3f2a"
      },
      "source": [
        "b = a.copy()\n",
        "b.shape=(3,4)\n",
        "print(b)"
      ],
      "execution_count": 49,
      "outputs": [
        {
          "output_type": "stream",
          "text": [
            "[[ 1  3  5  7]\n",
            " [ 9 11 13 15]\n",
            " [17 19 21 23]]\n"
          ],
          "name": "stdout"
        }
      ]
    },
    {
      "cell_type": "code",
      "metadata": {
        "id": "tUJ3xKtNe1kC",
        "colab_type": "code",
        "colab": {
          "base_uri": "https://localhost:8080/",
          "height": 71
        },
        "outputId": "1090f230-8edd-42e8-ca00-b8841423d07d"
      },
      "source": [
        "c = a.copy()\n",
        "c = np.reshape(c, (3,4),'F')\n",
        "print(c)"
      ],
      "execution_count": 58,
      "outputs": [
        {
          "output_type": "stream",
          "text": [
            "[[ 1  7 13 19]\n",
            " [ 3  9 15 21]\n",
            " [ 5 11 17 23]]\n"
          ],
          "name": "stdout"
        }
      ]
    },
    {
      "cell_type": "markdown",
      "metadata": {
        "id": "WTPWS424hWZs",
        "colab_type": "text"
      },
      "source": [
        "**Exercice 1:** Construct the matrix c without the reshape function.\n",
        "\n",
        "**Exercice 2:** Extract the 5th, 7th, and 8th (starting 0) coefficient of c in the column-major order using the np.unravel_index function.\n",
        "\n",
        "[Doc for unravel_index: https://numpy.org/doc/stable/reference/generated/numpy.unravel_index.html?#numpy.unravel_index](https://numpy.org/doc/stable/reference/generated/numpy.unravel_index.html?#numpy.unravel_index)"
      ]
    },
    {
      "cell_type": "markdown",
      "metadata": {
        "id": "ZZKYYK1AjwoC",
        "colab_type": "text"
      },
      "source": [
        "## Indexing and slicing"
      ]
    },
    {
      "cell_type": "code",
      "metadata": {
        "id": "8pf9kva6gNVh",
        "colab_type": "code",
        "colab": {}
      },
      "source": [
        ""
      ],
      "execution_count": null,
      "outputs": []
    },
    {
      "cell_type": "code",
      "metadata": {
        "id": "wGcq2GG3hVMd",
        "colab_type": "code",
        "colab": {}
      },
      "source": [
        ""
      ],
      "execution_count": null,
      "outputs": []
    }
  ]
}