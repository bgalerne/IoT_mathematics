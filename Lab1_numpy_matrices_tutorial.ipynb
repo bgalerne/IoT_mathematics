{
  "nbformat": 4,
  "nbformat_minor": 0,
  "metadata": {
    "colab": {
      "name": "Lab1_numpy_matrices_tutorial.ipynb",
      "provenance": [],
      "collapsed_sections": [],
      "authorship_tag": "ABX9TyOgckQIvi9WvcUkdqOC/E0v",
      "include_colab_link": true
    },
    "kernelspec": {
      "name": "python3",
      "display_name": "Python 3"
    }
  },
  "cells": [
    {
      "cell_type": "markdown",
      "metadata": {
        "id": "view-in-github",
        "colab_type": "text"
      },
      "source": [
        "<a href=\"https://colab.research.google.com/github/bgalerne/IoT_mathematics/blob/master/Lab1_numpy_matrices_tutorial.ipynb\" target=\"_parent\"><img src=\"https://colab.research.google.com/assets/colab-badge.svg\" alt=\"Open In Colab\"/></a>"
      ]
    },
    {
      "cell_type": "code",
      "metadata": {
        "id": "-C96t04RUOv5"
      },
      "source": [
        "import numpy as np\n",
        "import matplotlib.pyplot as plt\n",
        "import time"
      ],
      "execution_count": 2,
      "outputs": []
    },
    {
      "cell_type": "markdown",
      "metadata": {
        "id": "Fxw9z2cnUrmx"
      },
      "source": [
        "# Numpty tutorial for matrices\n",
        "\n",
        "NumPy: \"The fundamental package for scientific computing with Python\"\n",
        "https://numpy.org/\n"
      ]
    },
    {
      "cell_type": "markdown",
      "metadata": {
        "id": "kTYH9OMPU7ec"
      },
      "source": [
        "# 1. Vectors and matrices"
      ]
    },
    {
      "cell_type": "markdown",
      "metadata": {
        "id": "XK2RfztTWZaq"
      },
      "source": [
        "## From Python list to numpy array"
      ]
    },
    {
      "cell_type": "code",
      "metadata": {
        "id": "u51WKsKcUsW7",
        "outputId": "93490675-5aa2-4533-8d9d-c76ace8c9b30",
        "colab": {
          "base_uri": "https://localhost:8080/"
        }
      },
      "source": [
        "L = [1, 2, 3, 4]\n",
        "print(L)\n",
        "print(type(L))\n",
        "\n",
        "v = np.array(L)\n",
        "print(v)\n",
        "print(type(v))\n",
        "print(v.dtype)\n",
        "print(v.shape)\n",
        "\n",
        "w = np.arange(1,10,2)\n",
        "print(w)\n",
        "print(type(w))\n",
        "print(w.dtype)\n",
        "print(w.shape)\n"
      ],
      "execution_count": 3,
      "outputs": [
        {
          "output_type": "stream",
          "name": "stdout",
          "text": [
            "[1, 2, 3, 4]\n",
            "<class 'list'>\n",
            "[1 2 3 4]\n",
            "<class 'numpy.ndarray'>\n",
            "int64\n",
            "(4,)\n",
            "[1 3 5 7 9]\n",
            "<class 'numpy.ndarray'>\n",
            "int64\n",
            "(5,)\n"
          ]
        }
      ]
    },
    {
      "cell_type": "markdown",
      "metadata": {
        "id": "WYiaUFRPXNF3"
      },
      "source": [
        "## Numpy array and column vectors"
      ]
    },
    {
      "cell_type": "code",
      "metadata": {
        "id": "915aujr1Wh8f",
        "outputId": "296698b9-c099-47f9-db85-d82fc91d8f38",
        "colab": {
          "base_uri": "https://localhost:8080/"
        }
      },
      "source": [
        "v = np.arange(1,10,2)\n",
        "w = v-3\n",
        "print([v,w])\n",
        "print(v*w)\n",
        "\n",
        "# dot is the dot product, but also the matrix product\n",
        "print(v.dot(w))\n",
        "print((v.dot(w)).shape)\n",
        "\n",
        "print(v.shape)\n",
        "v = np.reshape(v,(5,1)) # or: v.shape = (5,1)\n",
        "print(v.shape)\n",
        "\n",
        "# print(v.dot(w)) # error\n",
        "\n",
        "w.shape = (5,1)\n",
        "print(v.dot(w.T)) # .T is for transpose\n",
        "print((v.dot(w.T)).shape)\n",
        "print(v.T.dot(w))\n",
        "print((v.T.dot(w)).shape)\n",
        "\n",
        "print(v.T @ w) # matrix product\n",
        "\n",
        "\n"
      ],
      "execution_count": 6,
      "outputs": [
        {
          "output_type": "stream",
          "name": "stdout",
          "text": [
            "[array([1, 3, 5, 7, 9]), array([-2,  0,  2,  4,  6])]\n",
            "[-2  0 10 28 54]\n",
            "v.dot(w) 90\n",
            "()\n",
            "(5,)\n",
            "(5, 1)\n",
            "[[ -2   0   2   4   6]\n",
            " [ -6   0   6  12  18]\n",
            " [-10   0  10  20  30]\n",
            " [-14   0  14  28  42]\n",
            " [-18   0  18  36  54]]\n",
            "(5, 5)\n",
            "[[90]]\n",
            "(1, 1)\n",
            "[[90]]\n"
          ]
        }
      ]
    },
    {
      "cell_type": "markdown",
      "metadata": {
        "id": "8xkMzV3Eap86"
      },
      "source": [
        "## From Python double list to numpy 2D array\n",
        "\n",
        "Matrices in numpy are 2D arrays. "
      ]
    },
    {
      "cell_type": "code",
      "metadata": {
        "id": "yPZ67VQZXl0_"
      },
      "source": [
        "L = [[1,2,3],[4,5,6],[7,8,9]]\n",
        "print(L)\n",
        "print(type(L))\n",
        "print(L[0])\n",
        "print(type(L[0]))\n",
        "print(L[0][2])\n",
        "print(type(L[0][2]))"
      ],
      "execution_count": null,
      "outputs": []
    },
    {
      "cell_type": "code",
      "metadata": {
        "id": "nNggRMhZa9vv"
      },
      "source": [
        "M = np.array(L)\n",
        "print(M)\n",
        "print(type(M))\n",
        "print(M.shape)\n",
        "print(M[0])\n",
        "print(type(M[0]))\n",
        "print(M[0][2])\n",
        "print(type(M[0][2]))\n",
        "print(M[0,2])\n",
        "print(type(M[0,2]))\n"
      ],
      "execution_count": null,
      "outputs": []
    },
    {
      "cell_type": "markdown",
      "metadata": {
        "id": "k2V4fRcPeDxV"
      },
      "source": [
        "### Flatten a matrix into a 1D array\n",
        "\n",
        "np.flatten function: Return a flattened copy of the matrix.\n",
        "\n",
        "np.ravel: Same but does not make a copy."
      ]
    },
    {
      "cell_type": "code",
      "metadata": {
        "id": "ZWUJ2o5gbVVm",
        "colab": {
          "base_uri": "https://localhost:8080/"
        },
        "outputId": "035ebe79-2c4a-47dd-cc35-827580f5a75c"
      },
      "source": [
        "# ‘C’ means to flatten in row-major (C-style) order (Numpy default). \n",
        "# ‘F’ means to flatten in column-major (Fortran-style) order. \n",
        "L = [[1,2,3],[4,5,6],[7,8,9]]\n",
        "M = np.array(L)\n",
        "print(M)\n",
        "print(M.flatten('C')) \n",
        "print((M.flatten('C')).shape)   \n",
        "print(M.flatten('F'))\n",
        "print((M.flatten('F')).shape)\n",
        "print(M.flatten()) \n",
        "print((M.flatten()).shape)   \n",
        "\n"
      ],
      "execution_count": null,
      "outputs": [
        {
          "output_type": "stream",
          "name": "stdout",
          "text": [
            "[[1 2 3]\n",
            " [4 5 6]\n",
            " [7 8 9]]\n",
            "[1 2 3 4 5 6 7 8 9]\n",
            "(9,)\n",
            "[1 4 7 2 5 8 3 6 9]\n",
            "(9,)\n",
            "[1 2 3 4 5 6 7 8 9]\n",
            "(9,)\n"
          ]
        }
      ]
    },
    {
      "cell_type": "markdown",
      "metadata": {
        "id": "LVA3Qfd5efEz"
      },
      "source": [
        "### From 1D array to 2D array"
      ]
    },
    {
      "cell_type": "code",
      "metadata": {
        "id": "bz_oEqNieQkv",
        "colab": {
          "base_uri": "https://localhost:8080/"
        },
        "outputId": "70b6904b-79a8-4f68-c9a6-35226a636e9e"
      },
      "source": [
        "a = np.arange(1,24,2)\n",
        "print(a)\n",
        "print(a.shape)"
      ],
      "execution_count": null,
      "outputs": [
        {
          "output_type": "stream",
          "name": "stdout",
          "text": [
            "[ 1  3  5  7  9 11 13 15 17 19 21 23]\n",
            "(12,)\n"
          ]
        }
      ]
    },
    {
      "cell_type": "code",
      "metadata": {
        "id": "8V_dOvbWeuQE",
        "colab": {
          "base_uri": "https://localhost:8080/"
        },
        "outputId": "d132c5b5-0bfb-450c-d210-bd1bd0544bdd"
      },
      "source": [
        "b = a.copy()\n",
        "b.shape=(3,4)\n",
        "print(b)"
      ],
      "execution_count": null,
      "outputs": [
        {
          "output_type": "stream",
          "name": "stdout",
          "text": [
            "[[ 1  3  5  7]\n",
            " [ 9 11 13 15]\n",
            " [17 19 21 23]]\n"
          ]
        }
      ]
    },
    {
      "cell_type": "code",
      "metadata": {
        "id": "tUJ3xKtNe1kC",
        "colab": {
          "base_uri": "https://localhost:8080/"
        },
        "outputId": "a3195fc4-21ca-4189-aa67-e83cfa375745"
      },
      "source": [
        "c = a.copy()\n",
        "c = np.reshape(c, (3,4),'F')\n",
        "print(c)\n",
        "#equivalently without the 'F' option: Use matrix transpose.\n",
        "d = np.reshape(a.copy(),(4,3)).T\n",
        "print(d)"
      ],
      "execution_count": null,
      "outputs": [
        {
          "output_type": "stream",
          "name": "stdout",
          "text": [
            "[[ 1  7 13 19]\n",
            " [ 3  9 15 21]\n",
            " [ 5 11 17 23]]\n",
            "[[ 1  7 13 19]\n",
            " [ 3  9 15 21]\n",
            " [ 5 11 17 23]]\n"
          ]
        }
      ]
    },
    {
      "cell_type": "markdown",
      "metadata": {
        "id": "ZZKYYK1AjwoC"
      },
      "source": [
        "## Indexing and slicing"
      ]
    },
    {
      "cell_type": "code",
      "metadata": {
        "id": "8pf9kva6gNVh"
      },
      "source": [
        "a = np.arange(20)\n",
        "M = np.reshape(a, (4,5))\n",
        "print(M)"
      ],
      "execution_count": null,
      "outputs": []
    },
    {
      "cell_type": "markdown",
      "metadata": {
        "id": "Mmbm7sU1zDet"
      },
      "source": [
        "### Access to a single coefficient:"
      ]
    },
    {
      "cell_type": "code",
      "metadata": {
        "id": "easXSrm-y-qc"
      },
      "source": [
        "# access to one coefficient:\n",
        "print(M[2,3])\n"
      ],
      "execution_count": null,
      "outputs": []
    },
    {
      "cell_type": "markdown",
      "metadata": {
        "id": "18X24SlLzJom"
      },
      "source": [
        "### Acess to a full row or column:"
      ]
    },
    {
      "cell_type": "code",
      "metadata": {
        "id": "cVIn1l2kzAqY"
      },
      "source": [
        "print(M[1,:])\n",
        "print(M[:,3])"
      ],
      "execution_count": null,
      "outputs": []
    },
    {
      "cell_type": "markdown",
      "metadata": {
        "id": "znBPZVLVzUvS"
      },
      "source": [
        "### Acess to a submatrix using start:stop:step"
      ]
    },
    {
      "cell_type": "code",
      "metadata": {
        "id": "wGcq2GG3hVMd"
      },
      "source": [
        "print(M[0:2,1:5])\n",
        "print(M[0::2,1:5])\n",
        "print(M[0::2,1:5:3])"
      ],
      "execution_count": null,
      "outputs": []
    },
    {
      "cell_type": "markdown",
      "metadata": {
        "id": "0XdlBMNK0el8"
      },
      "source": [
        "### Boundary: Periodic indexing"
      ]
    },
    {
      "cell_type": "code",
      "metadata": {
        "id": "VSMe_v1yzcQ7"
      },
      "source": [
        "print(M[[-1, 1],:])"
      ],
      "execution_count": null,
      "outputs": []
    },
    {
      "cell_type": "code",
      "metadata": {
        "id": "fVq3pkKG0sNw"
      },
      "source": [
        "print(M[-2:2,1])\n",
        "print(M[np.arange(-2,3),1])"
      ],
      "execution_count": null,
      "outputs": []
    },
    {
      "cell_type": "markdown",
      "metadata": {
        "id": "D_1tae-P7Cxa"
      },
      "source": [
        "### Linear indexing:\n",
        "It is sometimes necessary to use linear indexing for matrices.\n",
        "\n",
        "\n",
        "\n",
        "**Exercice 1:** \n",
        "Consider the matrix `c` \n",
        "```\n",
        "c = np.reshape(np.arange(1,24,2), (3,4),'F')\n",
        "```\n",
        "Extract the 5th, 7th, and 8th (starting 0) coefficient of `c`  in the column-major order using the `np.unravel_index` function.\n",
        "\n",
        "[Doc for unravel_index: https://numpy.org/doc/stable/reference/generated/numpy.unravel_index.html?#numpy.unravel_index](https://numpy.org/doc/stable/reference/generated/numpy.unravel_index.html?#numpy.unravel_index)"
      ]
    },
    {
      "cell_type": "markdown",
      "metadata": {
        "id": "FrEjubQE7o8y"
      },
      "source": [
        "# 2. Operations on matrices\n",
        "## Element-wise operations:"
      ]
    },
    {
      "cell_type": "code",
      "metadata": {
        "id": "c0at3M9IELeQ"
      },
      "source": [
        "v = np.arange(0,20,3)\n",
        "print(v)\n",
        "print(v.shape)\n",
        "r = np.random.rand(v.shape[0])\n",
        "print(r)\n",
        "print(v+r)\n",
        "print(v*r)\n",
        "print(v/r)\n",
        "print(r/v)\n"
      ],
      "execution_count": null,
      "outputs": []
    },
    {
      "cell_type": "markdown",
      "metadata": {
        "id": "FYCk_j9UF6TJ"
      },
      "source": [
        "## Matrix operations:"
      ]
    },
    {
      "cell_type": "code",
      "metadata": {
        "id": "expQsWu-F5GE",
        "colab": {
          "base_uri": "https://localhost:8080/"
        },
        "outputId": "63efd062-b6c0-4344-b00e-1b31fbf839bf"
      },
      "source": [
        "a = np.random.rand(4,5)\n",
        "print(a)\n",
        "b = np.random.rand(4,5)\n",
        "print(b)\n",
        "v = np.random.rand(5,1)\n",
        "print(v)\n",
        "print(a+b)\n",
        "print(a*b)\n",
        "print(np.dot(a,b.T))\n",
        "print(a.dot(b.T))\n",
        "\n",
        "print(a.dot(v))\n",
        "\n",
        "#print(a.dot(b)) # error\n",
        "\n",
        "print(a.dot(b.T)) # matrix product\n",
        "\n",
        "print(a @ b.T) # matrix product\n"
      ],
      "execution_count": null,
      "outputs": [
        {
          "output_type": "stream",
          "name": "stdout",
          "text": [
            "[[0.44534364 0.6387988  0.50528281 0.2127218  0.45194223]\n",
            " [0.35786726 0.22739571 0.56142777 0.85490248 0.67105051]\n",
            " [0.09310442 0.63971638 0.74696784 0.56470115 0.2238483 ]\n",
            " [0.60529147 0.08100329 0.03939178 0.80886176 0.35194499]]\n",
            "[[0.36593475 0.25538206 0.08311717 0.17015859 0.91407151]\n",
            " [0.43534608 0.9138127  0.43711369 0.27656529 0.53751027]\n",
            " [0.65410212 0.8132633  0.48292267 0.17985051 0.6819042 ]\n",
            " [0.87136395 0.21868282 0.22928638 0.57849376 0.29655473]]\n",
            "[[0.07473099]\n",
            " [0.93067778]\n",
            " [0.24620692]\n",
            " [0.8970654 ]\n",
            " [0.66612243]]\n",
            "[[0.81127839 0.89418086 0.58839998 0.38288039 1.36601374]\n",
            " [0.79321334 1.14120841 0.99854145 1.13146777 1.20856078]\n",
            " [0.74720654 1.45297968 1.22989051 0.74455166 0.9057525 ]\n",
            " [1.47665542 0.29968611 0.26867815 1.38735552 0.64849973]]\n",
            "[[0.16296671 0.16313775 0.04199768 0.03619644 0.41310752]\n",
            " [0.15579611 0.20779709 0.24540776 0.23643635 0.36069654]\n",
            " [0.0608998  0.52025785 0.3607277  0.10156179 0.15264309]\n",
            " [0.52742917 0.01771403 0.009032   0.46792148 0.10437095]]\n",
            "[[0.8174061  1.30024215 1.40126379 0.90068902]\n",
            " [0.9945503  1.20613386 1.30148733 1.18384686]\n",
            " [0.56023018 1.22812096 1.19609024 0.78535173]\n",
            " [0.70479577 0.76762892 0.86628958 1.12646763]]\n",
            "[[0.8174061  1.30024215 1.40126379 0.90068902]\n",
            " [0.9945503  1.20613386 1.30148733 1.18384686]\n",
            " [0.56023018 1.22812096 1.19609024 0.78535173]\n",
            " [0.70479577 0.76762892 0.86628958 1.12646763]]\n",
            "[[1.24407517]\n",
            " [1.59050854]\n",
            " [1.44192048]\n",
            " [1.09036087]]\n",
            "[[0.8174061  1.30024215 1.40126379 0.90068902]\n",
            " [0.9945503  1.20613386 1.30148733 1.18384686]\n",
            " [0.56023018 1.22812096 1.19609024 0.78535173]\n",
            " [0.70479577 0.76762892 0.86628958 1.12646763]]\n",
            "[[0.8174061  1.30024215 1.40126379 0.90068902]\n",
            " [0.9945503  1.20613386 1.30148733 1.18384686]\n",
            " [0.56023018 1.22812096 1.19609024 0.78535173]\n",
            " [0.70479577 0.76762892 0.86628958 1.12646763]]\n"
          ]
        }
      ]
    },
    {
      "cell_type": "markdown",
      "metadata": {
        "id": "1_eGIdTbQJ0x"
      },
      "source": [
        "## Broadcasting:\n",
        "\"The term broadcasting describes how numpy treats arrays with different shapes during arithmetic operations.\"\n",
        "This allows e.g. to add an array to all the columns or line of a matrix without duplicating the array.\n",
        "\n",
        "Please read the numpy manual section on the topics:\n",
        "https://numpy.org/doc/stable/user/basics.broadcasting.html\n",
        "\n",
        "**Exercise 2:**\n",
        "Given a $4\\times 4$ matrix $A$ and two arrays $b$ and $c$ of length $4$, construct the following 3 matrices\n",
        "using only broadcasting and ```np.reshape()``` :\n",
        "\n",
        "\n",
        "  1. \n",
        "  \n",
        "  $$\n",
        "M_1 = (a_{i,j}+b_j)_{\\substack{1\\leq i\\leq 4 \\\\ 1\\leq j\\leq 4}}\n",
        "$$\n",
        "\n",
        "  2.\n",
        "\n",
        "  $$\n",
        "M_2 = \\left(\\frac{a_{i,j}}{b_i}\\right)_{\\substack{1\\leq i\\leq 4 \\\\ 1\\leq j\\leq 4}} \\quad \\text{assuming all $b_i\\neq 0$}\n",
        "$$  \n",
        "  3.\n",
        "\n",
        "  $$\n",
        "M_3 = (a_{i,j}b_i c_j)_{\\substack{1\\leq i\\leq 4 \\\\ 1\\leq j\\leq 4}} \n",
        "$$\n"
      ]
    },
    {
      "cell_type": "markdown",
      "metadata": {
        "id": "rcNB0aLV2GLH"
      },
      "source": [
        "# 3. Exercice 3: Patch processing\n",
        "\n",
        "Consider a signal $a\\in\\mathbb{R}^n$ with $n$ coefficients.\n",
        "Given an half-size $s\\in\\mathbb{N}^*$ we define the patch of $a$ at index $i$ as the vector\n",
        "$$\n",
        "(a_{i-s}, a_{i-s+1},\\dots, a_{i}, a_{i+1}, \\dots, a_{i+s})^T \\in \\mathbb{R}^{2s+1},\n",
        "$$\n",
        "that is the vector obtained in taking the neighborhood of $a_i$ with radius $s$ (with periodic boundary condition).\n",
        "\n",
        "1. Write a function `array_to_patches_with_loop(a,s)` that constructs a matrix $M$ of size $2s+1\\times d$ such that the $i$-th column of $M$ is the patch of $a$ at index $i$ using a for loop.\n",
        "\n",
        "2. Write a function `array_to_patches_wo_loop(a,s)` that constructs the same matrix without any for loop.\n",
        "\n",
        "3. Compare the time performance of the two functions as the size of $d$ grows using random signals. Report the result with a graph.\n",
        "\n",
        "4. Create a signal with\n",
        "```\n",
        "n = 256\n",
        "a = np.linspace(0,10,n) + np.random.randn(n)\n",
        "```\n",
        "Extract all the patches with half-size $s=7$ of $a$ and compute the mean of each patches to get a new signal $b\\in\\mathbb{R}^n$. Plot $a$ and $b$. Comment the result.\n"
      ]
    },
    {
      "cell_type": "code",
      "metadata": {
        "id": "35OytGcI9kae"
      },
      "source": [
        ""
      ],
      "execution_count": null,
      "outputs": []
    }
  ]
}