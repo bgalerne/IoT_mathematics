{
  "nbformat": 4,
  "nbformat_minor": 0,
  "metadata": {
    "colab": {
      "name": "Lab1_numpy_matrices_tutorial.ipynb",
      "provenance": [],
      "collapsed_sections": [],
      "authorship_tag": "ABX9TyPTnZV2Wl0RA0lLkzb1MTMG",
      "include_colab_link": true
    },
    "kernelspec": {
      "name": "python3",
      "display_name": "Python 3"
    }
  },
  "cells": [
    {
      "cell_type": "markdown",
      "metadata": {
        "id": "view-in-github",
        "colab_type": "text"
      },
      "source": [
        "<a href=\"https://colab.research.google.com/github/bgalerne/IoT_mathematics/blob/master/Lab1_numpy_matrices_tutorial.ipynb\" target=\"_parent\"><img src=\"https://colab.research.google.com/assets/colab-badge.svg\" alt=\"Open In Colab\"/></a>"
      ]
    },
    {
      "cell_type": "code",
      "metadata": {
        "id": "-C96t04RUOv5",
        "colab_type": "code",
        "colab": {}
      },
      "source": [
        "import numpy as np\n",
        "import matplotlib.pyplot as plt"
      ],
      "execution_count": 4,
      "outputs": []
    },
    {
      "cell_type": "markdown",
      "metadata": {
        "id": "Fxw9z2cnUrmx",
        "colab_type": "text"
      },
      "source": [
        "# Numpty tutorial for matrices\n",
        "\n",
        "NumPy: \"The fundamental package for scientific computing with Python\"\n",
        "https://numpy.org/\n"
      ]
    },
    {
      "cell_type": "markdown",
      "metadata": {
        "id": "kTYH9OMPU7ec",
        "colab_type": "text"
      },
      "source": [
        "# Vectors and matrices"
      ]
    },
    {
      "cell_type": "markdown",
      "metadata": {
        "id": "XK2RfztTWZaq",
        "colab_type": "text"
      },
      "source": [
        "## From Python list to numpy array"
      ]
    },
    {
      "cell_type": "code",
      "metadata": {
        "id": "u51WKsKcUsW7",
        "colab_type": "code",
        "colab": {
          "base_uri": "https://localhost:8080/",
          "height": 216
        },
        "outputId": "34da1f53-ba98-46c2-9f4a-6e5fc59b1538"
      },
      "source": [
        "L = [1, 2, 3, 4]\n",
        "print(L)\n",
        "print(type(L))\n",
        "\n",
        "v = np.array(L)\n",
        "print(v)\n",
        "print(type(v))\n",
        "print(v.dtype)\n",
        "print(v.shape)\n",
        "\n",
        "w = np.arange(1,10,2)\n",
        "print(w)\n",
        "print(type(w))\n",
        "print(w.dtype)\n",
        "print(w.shape)\n"
      ],
      "execution_count": 12,
      "outputs": [
        {
          "output_type": "stream",
          "text": [
            "[1, 2, 3, 4]\n",
            "<class 'list'>\n",
            "[1 2 3 4]\n",
            "<class 'numpy.ndarray'>\n",
            "int64\n",
            "(4,)\n",
            "[1 3 5 7 9]\n",
            "<class 'numpy.ndarray'>\n",
            "int64\n",
            "(5,)\n",
            "(5,)\n"
          ],
          "name": "stdout"
        }
      ]
    },
    {
      "cell_type": "markdown",
      "metadata": {
        "id": "WYiaUFRPXNF3",
        "colab_type": "text"
      },
      "source": [
        "## Numpy array and column vectors"
      ]
    },
    {
      "cell_type": "code",
      "metadata": {
        "id": "915aujr1Wh8f",
        "colab_type": "code",
        "colab": {
          "base_uri": "https://localhost:8080/",
          "height": 271
        },
        "outputId": "07c2ef63-d70a-4a5d-ac16-416b9b2b07a0"
      },
      "source": [
        "v = np.arange(1,10,2)\n",
        "w = v-3\n",
        "print([v,w])\n",
        "print(v*w)\n",
        "\n",
        "# dot is the dot product, but also the matrix product\n",
        "print(v.dot(w))\n",
        "print((v.dot(w)).shape)\n",
        "\n",
        "print(v.shape)\n",
        "v.shape = (5,1)\n",
        "print(v.shape)\n",
        "\n",
        "# print(v.dot(w)) # error\n",
        "\n",
        "w.shape = (5,1)\n",
        "print(v.dot(w.T))\n",
        "print((v.dot(w.T)).shape)\n",
        "print(v.T.dot(w))\n",
        "print((v.T.dot(w)).shape)\n",
        "\n",
        "\n",
        "\n"
      ],
      "execution_count": 27,
      "outputs": [
        {
          "output_type": "stream",
          "text": [
            "[array([1, 3, 5, 7, 9]), array([-2,  0,  2,  4,  6])]\n",
            "[-2  0 10 28 54]\n",
            "90\n",
            "()\n",
            "(5,)\n",
            "(5, 1)\n",
            "[[ -2   0   2   4   6]\n",
            " [ -6   0   6  12  18]\n",
            " [-10   0  10  20  30]\n",
            " [-14   0  14  28  42]\n",
            " [-18   0  18  36  54]]\n",
            "(5, 5)\n",
            "[[90]]\n",
            "(1, 1)\n"
          ],
          "name": "stdout"
        }
      ]
    },
    {
      "cell_type": "code",
      "metadata": {
        "id": "yPZ67VQZXl0_",
        "colab_type": "code",
        "colab": {}
      },
      "source": [
        ""
      ],
      "execution_count": null,
      "outputs": []
    }
  ]
}