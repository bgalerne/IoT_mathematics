{
  "nbformat": 4,
  "nbformat_minor": 0,
  "metadata": {
    "colab": {
      "name": "Lab1_numpy_matrices_tutorial.ipynb",
      "provenance": [],
      "collapsed_sections": [],
      "authorship_tag": "ABX9TyMr4Vg10yWwga9U5++Y553J",
      "include_colab_link": true
    },
    "kernelspec": {
      "name": "python3",
      "display_name": "Python 3"
    }
  },
  "cells": [
    {
      "cell_type": "markdown",
      "metadata": {
        "id": "view-in-github",
        "colab_type": "text"
      },
      "source": [
        "<a href=\"https://colab.research.google.com/github/bgalerne/IoT_mathematics/blob/master/Lab1_numpy_matrices_tutorial.ipynb\" target=\"_parent\"><img src=\"https://colab.research.google.com/assets/colab-badge.svg\" alt=\"Open In Colab\"/></a>"
      ]
    },
    {
      "cell_type": "code",
      "metadata": {
        "id": "-C96t04RUOv5",
        "colab_type": "code",
        "colab": {}
      },
      "source": [
        "import numpy as np\n",
        "import matplotlib.pyplot as plt"
      ],
      "execution_count": null,
      "outputs": []
    },
    {
      "cell_type": "markdown",
      "metadata": {
        "id": "Fxw9z2cnUrmx",
        "colab_type": "text"
      },
      "source": [
        "# Numpty tutorial for matrices\n",
        "\n",
        "NumPy: \"The fundamental package for scientific computing with Python\"\n",
        "https://numpy.org/\n"
      ]
    },
    {
      "cell_type": "markdown",
      "metadata": {
        "id": "kTYH9OMPU7ec",
        "colab_type": "text"
      },
      "source": [
        "# 1. Vectors and matrices"
      ]
    },
    {
      "cell_type": "markdown",
      "metadata": {
        "id": "XK2RfztTWZaq",
        "colab_type": "text"
      },
      "source": [
        "## From Python list to numpy array"
      ]
    },
    {
      "cell_type": "code",
      "metadata": {
        "id": "u51WKsKcUsW7",
        "colab_type": "code",
        "colab": {}
      },
      "source": [
        "L = [1, 2, 3, 4]\n",
        "print(L)\n",
        "print(type(L))\n",
        "\n",
        "v = np.array(L)\n",
        "print(v)\n",
        "print(type(v))\n",
        "print(v.dtype)\n",
        "print(v.shape)\n",
        "\n",
        "w = np.arange(1,10,2)\n",
        "print(w)\n",
        "print(type(w))\n",
        "print(w.dtype)\n",
        "print(w.shape)\n"
      ],
      "execution_count": null,
      "outputs": []
    },
    {
      "cell_type": "markdown",
      "metadata": {
        "id": "WYiaUFRPXNF3",
        "colab_type": "text"
      },
      "source": [
        "## Numpy array and column vectors"
      ]
    },
    {
      "cell_type": "code",
      "metadata": {
        "id": "915aujr1Wh8f",
        "colab_type": "code",
        "colab": {}
      },
      "source": [
        "v = np.arange(1,10,2)\n",
        "w = v-3\n",
        "print([v,w])\n",
        "print(v*w)\n",
        "\n",
        "# dot is the dot product, but also the matrix product\n",
        "print(v.dot(w))\n",
        "print((v.dot(w)).shape)\n",
        "\n",
        "print(v.shape)\n",
        "v.shape = (5,1) # or: v = np.reshape(v,(5,1))\n",
        "print(v.shape)\n",
        "\n",
        "# print(v.dot(w)) # error\n",
        "\n",
        "w.shape = (5,1)\n",
        "print(v.dot(w.T)) # .T is for transpose\n",
        "print((v.dot(w.T)).shape)\n",
        "print(v.T.dot(w))\n",
        "print((v.T.dot(w)).shape)\n",
        "\n",
        "\n",
        "\n"
      ],
      "execution_count": null,
      "outputs": []
    },
    {
      "cell_type": "markdown",
      "metadata": {
        "id": "8xkMzV3Eap86",
        "colab_type": "text"
      },
      "source": [
        "## From Python double list to numpy 2D array\n",
        "\n",
        "Matrices in numpy are 2D arrays. "
      ]
    },
    {
      "cell_type": "code",
      "metadata": {
        "id": "yPZ67VQZXl0_",
        "colab_type": "code",
        "colab": {}
      },
      "source": [
        "L = [[1,2,3],[4,5,6],[7,8,9]]\n",
        "print(L)\n",
        "print(type(L))\n",
        "print(L[0])\n",
        "print(type(L[0]))\n",
        "print(L[0][2])\n",
        "print(type(L[0][2]))"
      ],
      "execution_count": null,
      "outputs": []
    },
    {
      "cell_type": "code",
      "metadata": {
        "id": "nNggRMhZa9vv",
        "colab_type": "code",
        "colab": {}
      },
      "source": [
        "M = np.array(L)\n",
        "print(M)\n",
        "print(type(M))\n",
        "print(M.shape)\n",
        "print(M[0])\n",
        "print(type(M[0]))\n",
        "print(M[0][2])\n",
        "print(type(M[0][2]))\n",
        "print(M[0,2])\n",
        "print(type(M[0,2]))\n"
      ],
      "execution_count": null,
      "outputs": []
    },
    {
      "cell_type": "markdown",
      "metadata": {
        "id": "k2V4fRcPeDxV",
        "colab_type": "text"
      },
      "source": [
        "### Flatten a matrix into a 1D array\n",
        "\n",
        "np.flatten function: Return a flattened copy of the matrix.\n",
        "\n",
        "np.ravel: Same but does not make a copy."
      ]
    },
    {
      "cell_type": "code",
      "metadata": {
        "id": "ZWUJ2o5gbVVm",
        "colab_type": "code",
        "colab": {}
      },
      "source": [
        "# ‘C’ means to flatten in row-major (C-style) order (Numpy default). \n",
        "# ‘F’ means to flatten in column-major (Fortran-style) order. \n",
        "print(M.flatten('C')) \n",
        "print((M.flatten('C')).shape)   \n",
        "print(M.flatten('F'))\n",
        "print((M.flatten('F')).shape)\n",
        "\n"
      ],
      "execution_count": null,
      "outputs": []
    },
    {
      "cell_type": "markdown",
      "metadata": {
        "id": "LVA3Qfd5efEz",
        "colab_type": "text"
      },
      "source": [
        "### From 1D array to 2D array"
      ]
    },
    {
      "cell_type": "code",
      "metadata": {
        "id": "bz_oEqNieQkv",
        "colab_type": "code",
        "colab": {}
      },
      "source": [
        "a = np.arange(1,24,2)\n",
        "print(a)\n",
        "print(a.shape)"
      ],
      "execution_count": null,
      "outputs": []
    },
    {
      "cell_type": "code",
      "metadata": {
        "id": "8V_dOvbWeuQE",
        "colab_type": "code",
        "colab": {}
      },
      "source": [
        "b = a.copy()\n",
        "b.shape=(3,4)\n",
        "print(b)"
      ],
      "execution_count": null,
      "outputs": []
    },
    {
      "cell_type": "code",
      "metadata": {
        "id": "tUJ3xKtNe1kC",
        "colab_type": "code",
        "colab": {}
      },
      "source": [
        "c = a.copy()\n",
        "c = np.reshape(c, (3,4),'F')\n",
        "print(c)"
      ],
      "execution_count": null,
      "outputs": []
    },
    {
      "cell_type": "markdown",
      "metadata": {
        "id": "WTPWS424hWZs",
        "colab_type": "text"
      },
      "source": [
        "**Exercice 1:** Construct the matrix c without the reshape function.\n",
        "\n"
      ]
    },
    {
      "cell_type": "markdown",
      "metadata": {
        "id": "ZZKYYK1AjwoC",
        "colab_type": "text"
      },
      "source": [
        "## Indexing and slicing"
      ]
    },
    {
      "cell_type": "code",
      "metadata": {
        "id": "8pf9kva6gNVh",
        "colab_type": "code",
        "colab": {}
      },
      "source": [
        "a = np.arange(20)\n",
        "M = np.reshape(a, (4,5))\n",
        "print(M)"
      ],
      "execution_count": null,
      "outputs": []
    },
    {
      "cell_type": "markdown",
      "metadata": {
        "id": "Mmbm7sU1zDet",
        "colab_type": "text"
      },
      "source": [
        "### Access to a single coefficient:"
      ]
    },
    {
      "cell_type": "code",
      "metadata": {
        "id": "easXSrm-y-qc",
        "colab_type": "code",
        "colab": {}
      },
      "source": [
        "# access to one coefficient:\n",
        "print(M[2,3])\n"
      ],
      "execution_count": null,
      "outputs": []
    },
    {
      "cell_type": "markdown",
      "metadata": {
        "id": "18X24SlLzJom",
        "colab_type": "text"
      },
      "source": [
        "### Acess to a full row or column:"
      ]
    },
    {
      "cell_type": "code",
      "metadata": {
        "id": "cVIn1l2kzAqY",
        "colab_type": "code",
        "colab": {}
      },
      "source": [
        "print(M[1,:])\n",
        "print(M[:,3])"
      ],
      "execution_count": null,
      "outputs": []
    },
    {
      "cell_type": "markdown",
      "metadata": {
        "id": "znBPZVLVzUvS",
        "colab_type": "text"
      },
      "source": [
        "### Acess to a submatrix using start:stop:step"
      ]
    },
    {
      "cell_type": "code",
      "metadata": {
        "id": "wGcq2GG3hVMd",
        "colab_type": "code",
        "colab": {}
      },
      "source": [
        "print(M[0:2,1:5])\n",
        "print(M[0::2,1:5])\n",
        "print(M[0::2,1:5:3])"
      ],
      "execution_count": null,
      "outputs": []
    },
    {
      "cell_type": "markdown",
      "metadata": {
        "id": "0XdlBMNK0el8",
        "colab_type": "text"
      },
      "source": [
        "### Boundary: Periodic indexing"
      ]
    },
    {
      "cell_type": "code",
      "metadata": {
        "id": "VSMe_v1yzcQ7",
        "colab_type": "code",
        "colab": {}
      },
      "source": [
        "print(M[[-1, 1],:])"
      ],
      "execution_count": null,
      "outputs": []
    },
    {
      "cell_type": "code",
      "metadata": {
        "id": "fVq3pkKG0sNw",
        "colab_type": "code",
        "colab": {}
      },
      "source": [
        "print(M[-2:2,1])\n",
        "print(M[np.arange(-2,3),1])"
      ],
      "execution_count": null,
      "outputs": []
    },
    {
      "cell_type": "markdown",
      "metadata": {
        "id": "D_1tae-P7Cxa",
        "colab_type": "text"
      },
      "source": [
        "### Linear indexing:\n",
        "It is sometimes necessary to use linear indexing for matrices.\n",
        "\n",
        "\n",
        "\n",
        "**Exercice 2:** \n",
        "Consider the matrix `c` of **Exercice 1**.\n",
        "Extract the 5th, 7th, and 8th (starting 0) coefficient of `c`  in the column-major order using the `np.unravel_index` function.\n",
        "\n",
        "[Doc for unravel_index: https://numpy.org/doc/stable/reference/generated/numpy.unravel_index.html?#numpy.unravel_index](https://numpy.org/doc/stable/reference/generated/numpy.unravel_index.html?#numpy.unravel_index)"
      ]
    },
    {
      "cell_type": "markdown",
      "metadata": {
        "id": "FrEjubQE7o8y",
        "colab_type": "text"
      },
      "source": [
        "# 2. Operations on matrices\n",
        "## Element-wise operations:"
      ]
    },
    {
      "cell_type": "code",
      "metadata": {
        "id": "c0at3M9IELeQ",
        "colab_type": "code",
        "colab": {}
      },
      "source": [
        "v = np.arange(0,20,3)\n",
        "print(v)\n",
        "print(v.shape)\n",
        "r = np.random.rand(v.shape[0])\n",
        "print(r)\n",
        "print(v+r)\n",
        "print(v*r)\n",
        "print(v/r)\n",
        "print(r/v)\n"
      ],
      "execution_count": null,
      "outputs": []
    },
    {
      "cell_type": "markdown",
      "metadata": {
        "id": "FYCk_j9UF6TJ",
        "colab_type": "text"
      },
      "source": [
        "## Matrix operations:"
      ]
    },
    {
      "cell_type": "code",
      "metadata": {
        "id": "expQsWu-F5GE",
        "colab_type": "code",
        "colab": {}
      },
      "source": [
        "a = np.random.rand(4,5)\n",
        "print(a)\n",
        "b = np.random.rand(4,5)\n",
        "print(b)\n",
        "v = np.random.rand(5,1)\n",
        "print(v)\n",
        "print(a+b)\n",
        "print(a*b)\n",
        "print(np.dot(a,b.T))\n",
        "print(a.dot(b.T))\n",
        "\n",
        "print(a.dot(v))\n",
        "\n",
        "print(a.dot(b)) # error\n",
        "\n"
      ],
      "execution_count": null,
      "outputs": []
    },
    {
      "cell_type": "markdown",
      "metadata": {
        "id": "rcNB0aLV2GLH",
        "colab_type": "text"
      },
      "source": [
        "# 3. Exercice: Patch processing\n",
        "\n",
        "Consider a signal $a\\in\\mathbb{R}^n$ with $n$ coefficients.\n",
        "Given an half-size $s\\in\\mathbb{N}^*$ we define the patch of $a$ at index $i$ as the vector\n",
        "$$\n",
        "(a_{i-s}, a_{i-s+1},\\dots, a_{i}, a_{i+1}, \\dots, a_{i+s})^T \\in \\mathbb{R}^{2s+1},\n",
        "$$\n",
        "that is the vector obtained in taking the neighborhood of $a_i$ with radius $s$ (with periodic boundary condition).\n",
        "\n",
        "1. Write a function `array_to_patches_with_loop(a,s)` that constructs a matrix $M$ of size $2s+1\\times d$ such that the $i$-th column of $M$ is the patch of $a$ at index $i$ using a for loop.\n",
        "\n",
        "2. Write a function `array_to_patches_wo_loop(a,s)` that constructs the same matrix without any for loop.\n",
        "\n",
        "3. Compare the time performance of the two functions as the size of $d$ grows using random signals. Report the result with a graph.\n",
        "\n",
        "4. Create a signal with\n",
        "```\n",
        "n = 256\n",
        "a = np.linspace(0,10,n) + np.random.randn(n)\n",
        "```\n",
        "Extract all the patches with half-size $s=7$ of $a$ and compute the mean of each patches to get a new signal $b\\in\\mathbb{R}^n$. Plot $a$ and $b$. Comment the result.\n"
      ]
    },
    {
      "cell_type": "code",
      "metadata": {
        "id": "35OytGcI9kae",
        "colab_type": "code",
        "colab": {}
      },
      "source": [
        ""
      ],
      "execution_count": null,
      "outputs": []
    }
  ]
}