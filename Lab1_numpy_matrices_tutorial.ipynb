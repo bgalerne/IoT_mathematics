{
  "nbformat": 4,
  "nbformat_minor": 0,
  "metadata": {
    "colab": {
      "name": "Lab1_numpy_matrices_tutorial.ipynb",
      "provenance": [],
      "collapsed_sections": [],
      "authorship_tag": "ABX9TyMr4Vg10yWwga9U5++Y553J",
      "include_colab_link": true
    },
    "kernelspec": {
      "name": "python3",
      "display_name": "Python 3"
    }
  },
  "cells": [
    {
      "cell_type": "markdown",
      "metadata": {
        "id": "view-in-github",
        "colab_type": "text"
      },
      "source": [
        "<a href=\"https://colab.research.google.com/github/bgalerne/IoT_mathematics/blob/master/Lab1_numpy_matrices_tutorial.ipynb\" target=\"_parent\"><img src=\"https://colab.research.google.com/assets/colab-badge.svg\" alt=\"Open In Colab\"/></a>"
      ]
    },
    {
      "cell_type": "code",
      "metadata": {
        "id": "-C96t04RUOv5",
        "colab_type": "code",
        "colab": {}
      },
      "source": [
        "import numpy as np\n",
        "import matplotlib.pyplot as plt"
      ],
      "execution_count": null,
      "outputs": []
    },
    {
      "cell_type": "markdown",
      "metadata": {
        "id": "Fxw9z2cnUrmx",
        "colab_type": "text"
      },
      "source": [
        "# Numpty tutorial for matrices\n",
        "\n",
        "NumPy: \"The fundamental package for scientific computing with Python\"\n",
        "https://numpy.org/\n"
      ]
    },
    {
      "cell_type": "markdown",
      "metadata": {
        "id": "kTYH9OMPU7ec",
        "colab_type": "text"
      },
      "source": [
        "# 1. Vectors and matrices"
      ]
    },
    {
      "cell_type": "markdown",
      "metadata": {
        "id": "XK2RfztTWZaq",
        "colab_type": "text"
      },
      "source": [
        "## From Python list to numpy array"
      ]
    },
    {
      "cell_type": "code",
      "metadata": {
        "id": "u51WKsKcUsW7",
        "colab_type": "code",
        "colab": {
          "base_uri": "https://localhost:8080/",
          "height": 216
        },
        "outputId": "34da1f53-ba98-46c2-9f4a-6e5fc59b1538"
      },
      "source": [
        "L = [1, 2, 3, 4]\n",
        "print(L)\n",
        "print(type(L))\n",
        "\n",
        "v = np.array(L)\n",
        "print(v)\n",
        "print(type(v))\n",
        "print(v.dtype)\n",
        "print(v.shape)\n",
        "\n",
        "w = np.arange(1,10,2)\n",
        "print(w)\n",
        "print(type(w))\n",
        "print(w.dtype)\n",
        "print(w.shape)\n"
      ],
      "execution_count": null,
      "outputs": [
        {
          "output_type": "stream",
          "text": [
            "[1, 2, 3, 4]\n",
            "<class 'list'>\n",
            "[1 2 3 4]\n",
            "<class 'numpy.ndarray'>\n",
            "int64\n",
            "(4,)\n",
            "[1 3 5 7 9]\n",
            "<class 'numpy.ndarray'>\n",
            "int64\n",
            "(5,)\n",
            "(5,)\n"
          ],
          "name": "stdout"
        }
      ]
    },
    {
      "cell_type": "markdown",
      "metadata": {
        "id": "WYiaUFRPXNF3",
        "colab_type": "text"
      },
      "source": [
        "## Numpy array and column vectors"
      ]
    },
    {
      "cell_type": "code",
      "metadata": {
        "id": "915aujr1Wh8f",
        "colab_type": "code",
        "colab": {
          "base_uri": "https://localhost:8080/",
          "height": 271
        },
        "outputId": "4e534330-436d-49ea-e0b1-a35b80576465"
      },
      "source": [
        "v = np.arange(1,10,2)\n",
        "w = v-3\n",
        "print([v,w])\n",
        "print(v*w)\n",
        "\n",
        "# dot is the dot product, but also the matrix product\n",
        "print(v.dot(w))\n",
        "print((v.dot(w)).shape)\n",
        "\n",
        "print(v.shape)\n",
        "v.shape = (5,1) # or: v = np.reshape(v,(5,1))\n",
        "print(v.shape)\n",
        "\n",
        "# print(v.dot(w)) # error\n",
        "\n",
        "w.shape = (5,1)\n",
        "print(v.dot(w.T)) # .T is for transpose\n",
        "print((v.dot(w.T)).shape)\n",
        "print(v.T.dot(w))\n",
        "print((v.T.dot(w)).shape)\n",
        "\n",
        "\n",
        "\n"
      ],
      "execution_count": 34,
      "outputs": [
        {
          "output_type": "stream",
          "text": [
            "[array([1, 3, 5, 7, 9]), array([-2,  0,  2,  4,  6])]\n",
            "[-2  0 10 28 54]\n",
            "90\n",
            "()\n",
            "(5,)\n",
            "(5, 1)\n",
            "[[ -2   0   2   4   6]\n",
            " [ -6   0   6  12  18]\n",
            " [-10   0  10  20  30]\n",
            " [-14   0  14  28  42]\n",
            " [-18   0  18  36  54]]\n",
            "(5, 5)\n",
            "[[90]]\n",
            "(1, 1)\n"
          ],
          "name": "stdout"
        }
      ]
    },
    {
      "cell_type": "markdown",
      "metadata": {
        "id": "8xkMzV3Eap86",
        "colab_type": "text"
      },
      "source": [
        "## From Python double list to numpy 2D array\n",
        "\n",
        "Matrices in numpy are 2D arrays. "
      ]
    },
    {
      "cell_type": "code",
      "metadata": {
        "id": "yPZ67VQZXl0_",
        "colab_type": "code",
        "colab": {
          "base_uri": "https://localhost:8080/",
          "height": 126
        },
        "outputId": "2516b276-06eb-47de-a5ee-af8707c29a1b"
      },
      "source": [
        "L = [[1,2,3],[4,5,6],[7,8,9]]\n",
        "print(L)\n",
        "print(type(L))\n",
        "print(L[0])\n",
        "print(type(L[0]))\n",
        "print(L[0][2])\n",
        "print(type(L[0][2]))"
      ],
      "execution_count": null,
      "outputs": [
        {
          "output_type": "stream",
          "text": [
            "[[1, 2, 3], [4, 5, 6], [7, 8, 9]]\n",
            "<class 'list'>\n",
            "[1, 2, 3]\n",
            "<class 'list'>\n",
            "3\n",
            "<class 'int'>\n"
          ],
          "name": "stdout"
        }
      ]
    },
    {
      "cell_type": "code",
      "metadata": {
        "id": "nNggRMhZa9vv",
        "colab_type": "code",
        "colab": {
          "base_uri": "https://localhost:8080/",
          "height": 234
        },
        "outputId": "b74ccebe-3919-4427-a053-5b27d40e54c2"
      },
      "source": [
        "M = np.array(L)\n",
        "print(M)\n",
        "print(type(M))\n",
        "print(M.shape)\n",
        "print(M[0])\n",
        "print(type(M[0]))\n",
        "print(M[0][2])\n",
        "print(type(M[0][2]))\n",
        "print(M[0,2])\n",
        "print(type(M[0,2]))\n"
      ],
      "execution_count": null,
      "outputs": [
        {
          "output_type": "stream",
          "text": [
            "[[1 2 3]\n",
            " [4 5 6]\n",
            " [7 8 9]]\n",
            "<class 'numpy.ndarray'>\n",
            "(3, 3)\n",
            "[1 2 3]\n",
            "<class 'numpy.ndarray'>\n",
            "3\n",
            "<class 'numpy.int64'>\n",
            "3\n",
            "<class 'numpy.int64'>\n",
            "[1 4 7 2 5 8 3 6 9]\n"
          ],
          "name": "stdout"
        }
      ]
    },
    {
      "cell_type": "markdown",
      "metadata": {
        "id": "k2V4fRcPeDxV",
        "colab_type": "text"
      },
      "source": [
        "### Flatten a matrix into a 1D array\n",
        "\n",
        "np.flatten function: Return a flattened copy of the matrix.\n",
        "\n",
        "np.ravel: Same but does not make a copy."
      ]
    },
    {
      "cell_type": "code",
      "metadata": {
        "id": "ZWUJ2o5gbVVm",
        "colab_type": "code",
        "colab": {
          "base_uri": "https://localhost:8080/",
          "height": 89
        },
        "outputId": "c0d06ae0-c27f-46ad-d9e1-98a4218efb4f"
      },
      "source": [
        "# ‘C’ means to flatten in row-major (C-style) order (Numpy default). \n",
        "# ‘F’ means to flatten in column-major (Fortran-style) order. \n",
        "print(M.flatten('C')) \n",
        "print((M.flatten('C')).shape)   \n",
        "print(M.flatten('F'))\n",
        "print((M.flatten('F')).shape)\n",
        "\n"
      ],
      "execution_count": null,
      "outputs": [
        {
          "output_type": "stream",
          "text": [
            "[1 2 3 4 5 6 7 8 9]\n",
            "(9,)\n",
            "[1 4 7 2 5 8 3 6 9]\n",
            "(9,)\n"
          ],
          "name": "stdout"
        }
      ]
    },
    {
      "cell_type": "markdown",
      "metadata": {
        "id": "LVA3Qfd5efEz",
        "colab_type": "text"
      },
      "source": [
        "### From 1D array to 2D array"
      ]
    },
    {
      "cell_type": "code",
      "metadata": {
        "id": "bz_oEqNieQkv",
        "colab_type": "code",
        "colab": {
          "base_uri": "https://localhost:8080/",
          "height": 53
        },
        "outputId": "584476f2-17d7-41f4-cebe-f8e78fd51ac4"
      },
      "source": [
        "a = np.arange(1,24,2)\n",
        "print(a)\n",
        "print(a.shape)"
      ],
      "execution_count": null,
      "outputs": [
        {
          "output_type": "stream",
          "text": [
            "[ 1  3  5  7  9 11 13 15 17 19 21 23]\n",
            "(12,)\n"
          ],
          "name": "stdout"
        }
      ]
    },
    {
      "cell_type": "code",
      "metadata": {
        "id": "8V_dOvbWeuQE",
        "colab_type": "code",
        "colab": {
          "base_uri": "https://localhost:8080/",
          "height": 71
        },
        "outputId": "4af99417-2380-4d5d-8aee-78b56d2a3f2a"
      },
      "source": [
        "b = a.copy()\n",
        "b.shape=(3,4)\n",
        "print(b)"
      ],
      "execution_count": null,
      "outputs": [
        {
          "output_type": "stream",
          "text": [
            "[[ 1  3  5  7]\n",
            " [ 9 11 13 15]\n",
            " [17 19 21 23]]\n"
          ],
          "name": "stdout"
        }
      ]
    },
    {
      "cell_type": "code",
      "metadata": {
        "id": "tUJ3xKtNe1kC",
        "colab_type": "code",
        "colab": {
          "base_uri": "https://localhost:8080/",
          "height": 71
        },
        "outputId": "1090f230-8edd-42e8-ca00-b8841423d07d"
      },
      "source": [
        "c = a.copy()\n",
        "c = np.reshape(c, (3,4),'F')\n",
        "print(c)"
      ],
      "execution_count": null,
      "outputs": [
        {
          "output_type": "stream",
          "text": [
            "[[ 1  7 13 19]\n",
            " [ 3  9 15 21]\n",
            " [ 5 11 17 23]]\n"
          ],
          "name": "stdout"
        }
      ]
    },
    {
      "cell_type": "markdown",
      "metadata": {
        "id": "WTPWS424hWZs",
        "colab_type": "text"
      },
      "source": [
        "**Exercice 1:** Construct the matrix c without the reshape function.\n",
        "\n"
      ]
    },
    {
      "cell_type": "markdown",
      "metadata": {
        "id": "ZZKYYK1AjwoC",
        "colab_type": "text"
      },
      "source": [
        "## Indexing and slicing"
      ]
    },
    {
      "cell_type": "code",
      "metadata": {
        "id": "8pf9kva6gNVh",
        "colab_type": "code",
        "colab": {
          "base_uri": "https://localhost:8080/",
          "height": 89
        },
        "outputId": "bf53d259-46c1-4873-91f2-9adf8a326cf4"
      },
      "source": [
        "a = np.arange(20)\n",
        "M = np.reshape(a, (4,5))\n",
        "print(M)"
      ],
      "execution_count": null,
      "outputs": [
        {
          "output_type": "stream",
          "text": [
            "[[ 0  1  2  3  4]\n",
            " [ 5  6  7  8  9]\n",
            " [10 11 12 13 14]\n",
            " [15 16 17 18 19]]\n"
          ],
          "name": "stdout"
        }
      ]
    },
    {
      "cell_type": "markdown",
      "metadata": {
        "id": "Mmbm7sU1zDet",
        "colab_type": "text"
      },
      "source": [
        "### Access to a single coefficient:"
      ]
    },
    {
      "cell_type": "code",
      "metadata": {
        "id": "easXSrm-y-qc",
        "colab_type": "code",
        "colab": {}
      },
      "source": [
        "# access to one coefficient:\n",
        "print(M[2,3])\n"
      ],
      "execution_count": null,
      "outputs": []
    },
    {
      "cell_type": "markdown",
      "metadata": {
        "id": "18X24SlLzJom",
        "colab_type": "text"
      },
      "source": [
        "### Acess to a full row or column:"
      ]
    },
    {
      "cell_type": "code",
      "metadata": {
        "id": "cVIn1l2kzAqY",
        "colab_type": "code",
        "colab": {}
      },
      "source": [
        "print(M[1,:])\n",
        "print(M[:,3])"
      ],
      "execution_count": null,
      "outputs": []
    },
    {
      "cell_type": "markdown",
      "metadata": {
        "id": "znBPZVLVzUvS",
        "colab_type": "text"
      },
      "source": [
        "### Acess to a submatrix using start:stop:step"
      ]
    },
    {
      "cell_type": "code",
      "metadata": {
        "id": "wGcq2GG3hVMd",
        "colab_type": "code",
        "colab": {
          "base_uri": "https://localhost:8080/",
          "height": 126
        },
        "outputId": "a5fa7030-9e5a-4586-d376-68d01b5507c4"
      },
      "source": [
        "print(M[0:2,1:5])\n",
        "print(M[0::2,1:5])\n",
        "print(M[0::2,1:5:3])"
      ],
      "execution_count": null,
      "outputs": [
        {
          "output_type": "stream",
          "text": [
            "[[1 2 3 4]\n",
            " [6 7 8 9]]\n",
            "[[ 1  2  3  4]\n",
            " [11 12 13 14]]\n",
            "[[ 1  4]\n",
            " [11 14]]\n"
          ],
          "name": "stdout"
        }
      ]
    },
    {
      "cell_type": "markdown",
      "metadata": {
        "id": "0XdlBMNK0el8",
        "colab_type": "text"
      },
      "source": [
        "### Boundary: Periodic indexing"
      ]
    },
    {
      "cell_type": "code",
      "metadata": {
        "id": "VSMe_v1yzcQ7",
        "colab_type": "code",
        "colab": {
          "base_uri": "https://localhost:8080/",
          "height": 53
        },
        "outputId": "8fa5b35b-0485-494c-c71f-719fcd8ba00a"
      },
      "source": [
        "print(M[[-1, 1],:])"
      ],
      "execution_count": null,
      "outputs": [
        {
          "output_type": "stream",
          "text": [
            "[[15 16 17 18 19]\n",
            " [ 5  6  7  8  9]]\n"
          ],
          "name": "stdout"
        }
      ]
    },
    {
      "cell_type": "code",
      "metadata": {
        "id": "fVq3pkKG0sNw",
        "colab_type": "code",
        "colab": {
          "base_uri": "https://localhost:8080/",
          "height": 53
        },
        "outputId": "66cde12b-8cd1-4795-f21d-8cfeb785d541"
      },
      "source": [
        "print(M[-2:2,1])\n",
        "print(M[np.arange(-2,3),1])"
      ],
      "execution_count": null,
      "outputs": [
        {
          "output_type": "stream",
          "text": [
            "[]\n",
            "[11 16  1  6 11]\n"
          ],
          "name": "stdout"
        }
      ]
    },
    {
      "cell_type": "markdown",
      "metadata": {
        "id": "D_1tae-P7Cxa",
        "colab_type": "text"
      },
      "source": [
        "### Linear indexing:\n",
        "It is sometimes necessary to use linear indexing for matrices.\n",
        "\n",
        "\n",
        "\n",
        "**Exercice 2:** \n",
        "Consider the matrix `c` of **Exercice 1**.\n",
        "Extract the 5th, 7th, and 8th (starting 0) coefficient of `c`  in the column-major order using the `np.unravel_index` function.\n",
        "\n",
        "[Doc for unravel_index: https://numpy.org/doc/stable/reference/generated/numpy.unravel_index.html?#numpy.unravel_index](https://numpy.org/doc/stable/reference/generated/numpy.unravel_index.html?#numpy.unravel_index)"
      ]
    },
    {
      "cell_type": "markdown",
      "metadata": {
        "id": "FrEjubQE7o8y",
        "colab_type": "text"
      },
      "source": [
        "# 2. Operations on matrices\n",
        "## Element-wise operations:"
      ]
    },
    {
      "cell_type": "code",
      "metadata": {
        "id": "c0at3M9IELeQ",
        "colab_type": "code",
        "colab": {
          "base_uri": "https://localhost:8080/",
          "height": 271
        },
        "outputId": "247b9c3a-1a8d-4798-b2fe-79c70cf17393"
      },
      "source": [
        "v = np.arange(0,20,3)\n",
        "print(v)\n",
        "print(v.shape)\n",
        "r = np.random.rand(v.shape[0])\n",
        "print(r)\n",
        "print(v+r)\n",
        "print(v*r)\n",
        "print(v/r)\n",
        "print(r/v)\n"
      ],
      "execution_count": 42,
      "outputs": [
        {
          "output_type": "stream",
          "text": [
            "[ 0  3  6  9 12 15 18]\n",
            "(7,)\n",
            "[0.53404336 0.95741514 0.72562111 0.79007865 0.84193251 0.82749908\n",
            " 0.23316256]\n",
            "[ 0.53404336  3.95741514  6.72562111  9.79007865 12.84193251 15.82749908\n",
            " 18.23316256]\n",
            "[ 0.          2.87224542  4.35372668  7.11070785 10.10319009 12.41248626\n",
            "  4.19692601]\n",
            "[ 0.          3.13343698  8.26877815 11.39127098 14.25292395 18.12690828\n",
            " 77.19935952]\n",
            "[       inf 0.31913838 0.12093685 0.08778652 0.07016104 0.05516661\n",
            " 0.01295348]\n"
          ],
          "name": "stdout"
        },
        {
          "output_type": "stream",
          "text": [
            "/usr/local/lib/python3.6/dist-packages/ipykernel_launcher.py:9: RuntimeWarning: divide by zero encountered in true_divide\n",
            "  if __name__ == '__main__':\n"
          ],
          "name": "stderr"
        }
      ]
    },
    {
      "cell_type": "markdown",
      "metadata": {
        "id": "FYCk_j9UF6TJ",
        "colab_type": "text"
      },
      "source": [
        "## Matrix operations:"
      ]
    },
    {
      "cell_type": "code",
      "metadata": {
        "id": "expQsWu-F5GE",
        "colab_type": "code",
        "colab": {
          "base_uri": "https://localhost:8080/",
          "height": 825
        },
        "outputId": "c38c68cd-30d2-4824-a6bc-a134079f0707"
      },
      "source": [
        "a = np.random.rand(4,5)\n",
        "print(a)\n",
        "b = np.random.rand(4,5)\n",
        "print(b)\n",
        "v = np.random.rand(5,1)\n",
        "print(v)\n",
        "print(a+b)\n",
        "print(a*b)\n",
        "print(np.dot(a,b.T))\n",
        "print(a.dot(b.T))\n",
        "\n",
        "print(a.dot(v))\n",
        "\n",
        "print(a.dot(b)) # error\n",
        "\n"
      ],
      "execution_count": 49,
      "outputs": [
        {
          "output_type": "stream",
          "text": [
            "[[0.8043879  0.28455851 0.69305737 0.17884143 0.20456732]\n",
            " [0.03328463 0.99924799 0.26009357 0.83849798 0.18779583]\n",
            " [0.81491306 0.98630676 0.65463665 0.96039573 0.71379741]\n",
            " [0.05305245 0.78220252 0.76418861 0.75546859 0.14623255]]\n",
            "[[0.83474235 0.27859899 0.99086769 0.01124827 0.9333488 ]\n",
            " [0.86422552 0.36696514 0.48006524 0.90125565 0.75124892]\n",
            " [0.52241042 0.82089051 0.06114042 0.23690346 0.05672166]\n",
            " [0.4940761  0.87095418 0.42958632 0.78459355 0.82283454]]\n",
            "[[0.98088581]\n",
            " [0.00581915]\n",
            " [0.61792156]\n",
            " [0.02252649]\n",
            " [0.44443085]]\n",
            "[[1.63913024 0.56315751 1.68392506 0.1900897  1.13791612]\n",
            " [0.89751015 1.36621313 0.74015881 1.73975363 0.93904475]\n",
            " [1.33732348 1.80719727 0.71577707 1.19729919 0.77051907]\n",
            " [0.54712855 1.65315671 1.19377493 1.54006214 0.96906709]]\n",
            "[[0.67145664 0.07927772 0.68672815 0.00201166 0.19093266]\n",
            " [0.02876543 0.36668918 0.12486188 0.75570104 0.14108141]\n",
            " [0.42571907 0.80964986 0.04002476 0.22752107 0.04048777]\n",
            " [0.02621195 0.68126256 0.32828497 0.59273578 0.12032519]]\n",
            "[[1.63040683 1.44717118 0.75015737 1.25163712]\n",
            " [0.74860256 1.41709895 1.06285883 1.81088201]\n",
            " [2.28070956 2.78227877 1.54340254 2.88373749]\n",
            " [1.16439945 1.4904781  0.90380827 1.74882046]]\n",
            "[[1.63040683 1.44717118 0.75015737 1.25163712]\n",
            " [0.74860256 1.41709895 1.06285883 1.81088201]\n",
            " [2.28070956 2.78227877 1.54340254 2.88373749]\n",
            " [1.16439945 1.4904781  0.90380827 1.74882046]]\n",
            "[[1.31386835]\n",
            " [0.30153131]\n",
            " [1.54845817]\n",
            " [0.61080708]]\n"
          ],
          "name": "stdout"
        },
        {
          "output_type": "error",
          "ename": "ValueError",
          "evalue": "ignored",
          "traceback": [
            "\u001b[0;31m---------------------------------------------------------------------------\u001b[0m",
            "\u001b[0;31mValueError\u001b[0m                                Traceback (most recent call last)",
            "\u001b[0;32m<ipython-input-49-dccf9ee34fa8>\u001b[0m in \u001b[0;36m<module>\u001b[0;34m()\u001b[0m\n\u001b[1;32m     12\u001b[0m \u001b[0mprint\u001b[0m\u001b[0;34m(\u001b[0m\u001b[0ma\u001b[0m\u001b[0;34m.\u001b[0m\u001b[0mdot\u001b[0m\u001b[0;34m(\u001b[0m\u001b[0mv\u001b[0m\u001b[0;34m)\u001b[0m\u001b[0;34m)\u001b[0m\u001b[0;34m\u001b[0m\u001b[0;34m\u001b[0m\u001b[0m\n\u001b[1;32m     13\u001b[0m \u001b[0;34m\u001b[0m\u001b[0m\n\u001b[0;32m---> 14\u001b[0;31m \u001b[0mprint\u001b[0m\u001b[0;34m(\u001b[0m\u001b[0ma\u001b[0m\u001b[0;34m.\u001b[0m\u001b[0mdot\u001b[0m\u001b[0;34m(\u001b[0m\u001b[0mb\u001b[0m\u001b[0;34m)\u001b[0m\u001b[0;34m)\u001b[0m \u001b[0;31m# error\u001b[0m\u001b[0;34m\u001b[0m\u001b[0;34m\u001b[0m\u001b[0m\n\u001b[0m\u001b[1;32m     15\u001b[0m \u001b[0;34m\u001b[0m\u001b[0m\n",
            "\u001b[0;31mValueError\u001b[0m: shapes (4,5) and (4,5) not aligned: 5 (dim 1) != 4 (dim 0)"
          ]
        }
      ]
    },
    {
      "cell_type": "markdown",
      "metadata": {
        "id": "rcNB0aLV2GLH",
        "colab_type": "text"
      },
      "source": [
        "# 3. Exercice: Patch processing\n",
        "\n",
        "Consider a signal $a\\in\\mathbb{R}^n$ with $n$ coefficients.\n",
        "Given an half-size $s\\in\\mathbb{N}^*$ we define the patch of $a$ at index $i$ as the vector\n",
        "$$\n",
        "(a_{i-s}, a_{i-s+1},\\dots, a_{i}, a_{i+1}, \\dots, a_{i+s})^T \\in \\mathbb{R}^{2s+1},\n",
        "$$\n",
        "that is the vector obtained in taking the neighborhood of $a_i$ with radius $s$ (with periodic boundary condition).\n",
        "\n",
        "1. Write a function `array_to_patches_with_loop(a,s)` that constructs a matrix $M$ of size $2s+1\\times d$ such that the $i$-th column of $M$ is the patch of $a$ at index $i$ using a for loop.\n",
        "\n",
        "2. Write a function `array_to_patches_wo_loop(a,s)` that constructs the same matrix without any for loop.\n",
        "\n",
        "3. Compare the time performance of the two functions as the size of $d$ grows using random signals. Report the result with a graph.\n",
        "\n",
        "4. Create a signal with\n",
        "```\n",
        "n = 256\n",
        "a = np.linspace(0,10,n) + np.random.randn(n)\n",
        "```\n",
        "Extract all the patches with half-size $s=7$ of $a$ and compute the mean of each patches to get a new signal $b\\in\\mathbb{R}^n$. Plot $a$ and $b$. Comment the result.\n"
      ]
    },
    {
      "cell_type": "code",
      "metadata": {
        "id": "35OytGcI9kae",
        "colab_type": "code",
        "colab": {}
      },
      "source": [
        ""
      ],
      "execution_count": null,
      "outputs": []
    }
  ]
}