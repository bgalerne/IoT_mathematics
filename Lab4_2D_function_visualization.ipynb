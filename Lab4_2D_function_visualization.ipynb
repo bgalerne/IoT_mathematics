{
  "nbformat": 4,
  "nbformat_minor": 0,
  "metadata": {
    "colab": {
      "name": "Lab4_2D_function_visualization.ipynb",
      "provenance": [],
      "collapsed_sections": [],
      "authorship_tag": "ABX9TyOQVStGZREWpUVYVVpOhGzC",
      "include_colab_link": true
    },
    "kernelspec": {
      "name": "python3",
      "display_name": "Python 3"
    }
  },
  "cells": [
    {
      "cell_type": "markdown",
      "metadata": {
        "id": "view-in-github",
        "colab_type": "text"
      },
      "source": [
        "<a href=\"https://colab.research.google.com/github/bgalerne/IoT_mathematics/blob/master/Lab4_2D_function_visualization.ipynb\" target=\"_parent\"><img src=\"https://colab.research.google.com/assets/colab-badge.svg\" alt=\"Open In Colab\"/></a>"
      ]
    },
    {
      "cell_type": "code",
      "metadata": {
        "id": "jF-zHEZwe8Fc"
      },
      "source": [
        "import numpy as np\n",
        "import matplotlib.pyplot as plt"
      ],
      "execution_count": null,
      "outputs": []
    },
    {
      "cell_type": "markdown",
      "metadata": {
        "id": "PrCVBhVsJI5J"
      },
      "source": [
        "# Visualization of a quadratic function:\n",
        "\n",
        "**Convention:** All defined functions $f:\\mathbb{R}^2\\to \\mathbb{R}$ must allow to be applied to a list of points of size $2\\times \\mathrm{Nbpoints}$ (with a 2D-array format).\n",
        "\n",
        "This convention is needed to deal with any sequence of points... But has drawbacks: a single point given as a 1D-array must be reshaped as a 2D array (see example code below).\n",
        "\n",
        "\n",
        "Below is a quadratic function on $[-3,3]\\times[-3,3]$:\n",
        "$$\n",
        "f(x_1,x_2) = x_1^2 + 2 x_2^2 + x_1x_2 + x_1 - 3x_2 + 1.\n",
        "$$\n"
      ]
    },
    {
      "cell_type": "markdown",
      "metadata": {
        "id": "Wrvj2rpTK2Is"
      },
      "source": [
        "## Define function:"
      ]
    },
    {
      "cell_type": "code",
      "metadata": {
        "id": "iKsXByW2d0Mr"
      },
      "source": [
        "def f(x):\n",
        "  if x.ndim == 1:\n",
        "    x = x.reshape((-1,1))\n",
        "  z = x[0,:]**2 + 2* x[1,:]**2 + x[0,:]*x[1,:] + x[0,:] - 3*x[1,:] + 1\n",
        "  return(z)\n"
      ],
      "execution_count": null,
      "outputs": []
    },
    {
      "cell_type": "markdown",
      "metadata": {
        "id": "qvz1iXz5K5Jl"
      },
      "source": [
        "## Define domain, associated grid, and evaluate function on the grid:"
      ]
    },
    {
      "cell_type": "code",
      "metadata": {
        "id": "YFdiQE6NLCDn"
      },
      "source": [
        "x1 = np.linspace(-3,3,200)\n",
        "x2 = np.linspace(-3,3,200)\n",
        "\n",
        "X1, X2 = np.meshgrid(x1,x2)\n",
        "Xlist = np.vstack((X1.ravel(), X2.ravel()))\n",
        "print(Xlist.shape)\n",
        "Z = f(Xlist)\n",
        "Z = np.reshape(Z, X1.shape)\n",
        "print(Z.shape)"
      ],
      "execution_count": null,
      "outputs": []
    },
    {
      "cell_type": "markdown",
      "metadata": {
        "id": "a9IPLbGaKzwO"
      },
      "source": [
        "## Surface plot"
      ]
    },
    {
      "cell_type": "code",
      "metadata": {
        "id": "MDooAUnsh3Ro"
      },
      "source": [
        "\n",
        "fig = plt.figure()\n",
        "ax = plt.axes(projection='3d')\n",
        "ax.plot_surface(X1, X2, Z, cmap='viridis', edgecolor='none')\n",
        "ax.set_title('Surface plot')\n",
        "plt.show()\n",
        "\n",
        "# same figure with different angle:\n",
        "fig = plt.figure()\n",
        "ax = plt.axes(projection='3d')\n",
        "angle = 120\n",
        "ax.view_init(30,angle)\n",
        "ax.plot_surface(X1, X2, Z, cmap='viridis', edgecolor='none')\n",
        "ax.set_title('Surface plot')\n",
        "plt.show()"
      ],
      "execution_count": null,
      "outputs": []
    },
    {
      "cell_type": "markdown",
      "metadata": {
        "id": "677A0LKkLOio"
      },
      "source": [
        "## Level line plot:\n"
      ]
    },
    {
      "cell_type": "code",
      "metadata": {
        "id": "CqCtr4bdMLkX"
      },
      "source": [
        "fig, ax = plt.subplots()\n",
        "CS = ax.contour(X1, X2, Z)\n",
        "ax.clabel(CS, inline=1, fontsize=10)\n",
        "ax.set_title('Simplest default with labels')\n",
        "# find minimal value on discrete grid:\n",
        "indmin = np.argmin(Z)\n",
        "print(indmin)\n",
        "ind1, ind2 = np.unravel_index(indmin,X1.shape)\n",
        "print(X1.shape)\n",
        "plt.plot(X1[ind1,ind2],X2[ind1,ind2],'r*')"
      ],
      "execution_count": null,
      "outputs": []
    },
    {
      "cell_type": "markdown",
      "metadata": {
        "id": "tiWWNUibMw7P"
      },
      "source": [
        "##Level line plot with more levels:"
      ]
    },
    {
      "cell_type": "code",
      "metadata": {
        "id": "nAETEfXxMv-a"
      },
      "source": [
        "fig, ax = plt.subplots()\n",
        "Nlevels = 20\n",
        "CS = ax.contour(X1, X2, Z, Nlevels)\n",
        "ax.clabel(CS, inline=1, fontsize=10)\n",
        "ax.set_title('Simplest default with labels')\n",
        "# find minimal value on discrete grid:\n",
        "indmin = np.argmin(Z)\n",
        "print(indmin)\n",
        "ind1, ind2 = np.unravel_index(indmin,X1.shape)\n",
        "print(X1.shape)\n",
        "plt.plot(X1[ind1,ind2],X2[ind1,ind2],'r*')"
      ],
      "execution_count": null,
      "outputs": []
    },
    {
      "cell_type": "markdown",
      "metadata": {
        "id": "iYm2JLvaNNTp"
      },
      "source": [
        "# Other functions:\n",
        "\n",
        "**Exercise:**\n",
        "\n",
        "1. For each of the two functions below, create one surface plot and one level line plot with adapted parameters (angle and number of level lines):\n",
        "\n",
        " - Rosenbrock's function on $[-3,3]\\times [-1,4]$:\n",
        "$$\n",
        "f(x_1,x_2) = 100 (x_2-x_1^2)^2 + (1-x_1)^2.\n",
        "$$\n",
        "\n",
        " - Himmelblau's function on $[-5,5]\\times[-5,5]$:\n",
        "$$\n",
        "f(x_1,x_2) = (x_1^2+x_2-11)^2+(x_1+x_2^2-7)^2.\n",
        "$$\n",
        "\n",
        "2. For each of the three functions, discuss the convexity of the function."
      ]
    },
    {
      "cell_type": "markdown",
      "metadata": {
        "id": "y5Q2gIvUQClh"
      },
      "source": [
        "# Visualization of a tangent plane:"
      ]
    },
    {
      "cell_type": "markdown",
      "metadata": {
        "id": "kzj1nbcIRNjb"
      },
      "source": [
        "We consider again the quadratic function on $[-3,3]\\times[-3,3]$:\n",
        "\n",
        "$$\n",
        "f(x_1,x_2) = x_1^2 + 2 x_2^2 + x_1x_2 + x_1 - 3x_2 + 1.\n",
        "$$\n",
        "\n",
        "1. Give the symmetric matrix $A$, the vector $b$ and the constant $c$ for which\n",
        "$$\n",
        "f(x) = x_1^2 + 2 x_2^2 + x_1x_2 + x_1 - 3x_2 + 1 \n",
        "= \\frac{1}{2} \\langle A x, x \\rangle - \\langle b, x \\rangle + c.\n",
        "$$\n",
        "\n",
        "2. Compute directly the gradient $\\nabla f (x)$ and check that $\\nabla f(x) = A x - b$.\n",
        "\n",
        "3. Define a function ```gradf(x)``` that given a sequence of points $(x^{(1)}, x^{(2)}, \\dots, x^{(m)})$ computes the $2\\times m$ matrix \n",
        "$(\\nabla f(x^{(1)}), \\nabla f(x^{(2)}), \\dots, \\nabla f(x^{(m)}))$.\n",
        "\n",
        "4. The graph of the tangent plan at a point $y$ is:\n",
        "$$\n",
        "h_y(x) = f(y) + \\langle \\nabla f(y), x-y\\rangle.\n",
        "$$\n",
        "Define a function ```tangent_plane(f, y, x)``` that applies the function $h_y$ above to the list of points contained in $x$.\n",
        "\n",
        "5. For different values of $y$ visualize simultaneously the surface plot of $f$ and the tangent plane at point $y$. \n",
        "\n"
      ]
    }
  ]
}