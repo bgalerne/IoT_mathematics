{
  "nbformat": 4,
  "nbformat_minor": 0,
  "metadata": {
    "colab": {
      "name": "Lab3_eigen_decomposition.ipynb",
      "provenance": [],
      "collapsed_sections": [],
      "authorship_tag": "ABX9TyPZ6lpRrSmMQMVGIHEb88dm",
      "include_colab_link": true
    },
    "kernelspec": {
      "name": "python3",
      "display_name": "Python 3"
    }
  },
  "cells": [
    {
      "cell_type": "markdown",
      "metadata": {
        "id": "view-in-github",
        "colab_type": "text"
      },
      "source": [
        "<a href=\"https://colab.research.google.com/github/bgalerne/IoT_mathematics/blob/master/Lab3_eigen_decomposition.ipynb\" target=\"_parent\"><img src=\"https://colab.research.google.com/assets/colab-badge.svg\" alt=\"Open In Colab\"/></a>"
      ]
    },
    {
      "cell_type": "code",
      "metadata": {
        "id": "-uB5icWmFejJ"
      },
      "source": [
        "import numpy as np\n",
        "import matplotlib.pyplot as plt\n",
        "import time\n",
        "import scipy.linalg"
      ],
      "execution_count": null,
      "outputs": []
    },
    {
      "cell_type": "markdown",
      "metadata": {
        "id": "BO2ivlxAh1Wq"
      },
      "source": [
        "# Rename notebook:\n",
        "Rename the notebook \n",
        "\n",
        "\"Lab3_eigen_decomposition.ipynb\" \n",
        "\n",
        "in \n",
        "\n",
        "\"NOM_PRENOM_Lab3_eigen_decomposition.ipynb\"\n",
        "\n",
        "Send me the notebook by email at \n",
        "\n",
        "bruno.galerne@univ-orleans.fr.\n",
        "\n",
        "before Monday September 21, 23:59 with email object\n",
        "\n",
        "[IoT] Lab3: home evaluation\n"
      ]
    },
    {
      "cell_type": "markdown",
      "metadata": {
        "id": "rkLtUxtWkMYh"
      },
      "source": [
        "# Generate personal seed"
      ]
    },
    {
      "cell_type": "code",
      "metadata": {
        "id": "5tRgBwEKj4MB"
      },
      "source": [
        "NOM = 'GALERNE' # replace with your name without space\n",
        "yourseed = int(NOM, base=36)%2**32\n"
      ],
      "execution_count": null,
      "outputs": []
    },
    {
      "cell_type": "markdown",
      "metadata": {
        "id": "lXixgB7FFnoA"
      },
      "source": [
        "# Eigendecomposition:"
      ]
    },
    {
      "cell_type": "code",
      "metadata": {
        "id": "K4xkJuV1FlOj"
      },
      "source": [
        "n=3\n",
        "np.random.seed(yourseed)\n",
        "M = np.random.rand(n,2*n)\n",
        "print(M)\n",
        "A = M.dot(M.T)\n",
        "print(A)\n"
      ],
      "execution_count": null,
      "outputs": []
    },
    {
      "cell_type": "markdown",
      "metadata": {
        "id": "B9fKI1w1mibw"
      },
      "source": [
        "**Exercise 1**\n",
        "\n",
        "Show that $A$ above is a symmetric non negative matrix."
      ]
    },
    {
      "cell_type": "code",
      "metadata": {
        "id": "XW7LMEbOFmWN"
      },
      "source": [
        "e, v = scipy.linalg.eigh(A)\n",
        "print(e)\n",
        "print(v)\n",
        "B = v @ v.T\n",
        "print(np.allclose(B, np.identity(3)))\n",
        "print((A @ v) / v)\n"
      ],
      "execution_count": null,
      "outputs": []
    },
    {
      "cell_type": "markdown",
      "metadata": {
        "id": "6hvfUS6RmKXE"
      },
      "source": [
        "**Exercise 2**\n",
        "\n",
        "Explain in details and using mathematical notation and equations what is done in each line in the above cell. You must both describe the computation and explain the result."
      ]
    },
    {
      "cell_type": "code",
      "metadata": {
        "id": "96TqknUwMtDF"
      },
      "source": [
        "\n",
        "B = np.zeros(A.shape)\n",
        "for k in range(A.shape[0]):\n",
        "  u = v[:,k]\n",
        "  u.shape = (A.shape[0],1)\n",
        "  B = B + e[k] * u @ u.T\n",
        "print(np.allclose(B, A))\n"
      ],
      "execution_count": null,
      "outputs": []
    },
    {
      "cell_type": "markdown",
      "metadata": {
        "id": "BCszk1wumcn8"
      },
      "source": [
        "**Exercise 3**\n",
        "\n",
        "Explain in detail and using mathematical notation and equations what is done in each line in the above cell. You must both describe the computation and explain the result."
      ]
    },
    {
      "cell_type": "markdown",
      "metadata": {
        "id": "pvyNwYWIhzU_"
      },
      "source": [
        "# Image of the unitary disc by a 2x2 symmetric matrix"
      ]
    },
    {
      "cell_type": "code",
      "metadata": {
        "id": "sJtaaOXLM2gH"
      },
      "source": [
        "n=2\n",
        "np.random.seed(yourseed)\n",
        "A = np.random.rand(n,n)\n",
        "A = A + A.T\n",
        "print('A = ')\n",
        "print(A)\n",
        "eig, vei = scipy.linalg.eigh(A)\n",
        "print('eig = ')\n",
        "print(eig)\n",
        "print('vei = ')\n",
        "print(vei)\n",
        "\n",
        "npts = 100\n",
        "plt.figure()\n",
        "plt.plot(0,0,'r+')\n",
        "plt.plot([0, eig[0]*vei[0,0]], [0, eig[0]*vei[1,0]],'y')\n",
        "plt.plot([0, eig[1]*vei[0,1]], [0, eig[1]*vei[1,1]],'m')\n",
        "for k in range(npts):\n",
        "  theta = 2*np.pi * np.random.rand(1)\n",
        "  v = np.array([np.cos(theta),np.sin(theta)])\n",
        "  plt.plot(v[0],v[1],'gx')\n",
        "  w = A.dot(v)\n",
        "  plt.plot(w[0],w[1],'b*')\n",
        "plt.gca().set_aspect('equal', 'box')\n"
      ],
      "execution_count": null,
      "outputs": []
    },
    {
      "cell_type": "markdown",
      "metadata": {
        "id": "i1sYQdTYnPGA"
      },
      "source": [
        "**Exercise 4:**\n",
        "\n",
        "1. What can be said about the reduction of $A$?\n",
        "\n",
        "1. Explain each element of the graph: More precisely, what is displayed in \n",
        "\n",
        "    a) red\n",
        "\n",
        "    b) magenta\n",
        "\n",
        "    c) yellow\n",
        "\n",
        "    d) green\n",
        "\n",
        "    e) blue\n",
        "\n",
        "2. **[Bonus: Can be skipped]** Can you explain the blue shape given the eigenvalues $\\lambda_1$, $\\lambda_2$ and eigenvectors $v_1$, $v_2$ of $A$ ? (answer with equations)\n",
        "\n",
        "3. Implement an equivalent of the for loop without any loop.\n",
        "\n",
        "4. Using a performance plot, give an approximate value of ```npts``` for which the plot without for loop is 10 times faster ?\n",
        "\n",
        "\n"
      ]
    },
    {
      "cell_type": "markdown",
      "metadata": {
        "id": "uA4BCId4fENj"
      },
      "source": [
        "# Non-symmetric case:\n",
        "\n",
        "Let us consider \n",
        "$$\n",
        "A = \\begin{pmatrix}\n",
        "\\sqrt{2} & -\\sqrt{2}\\\\\n",
        "\\sqrt{2} & \\sqrt{2}\n",
        "\\end{pmatrix}\n",
        "$$\n",
        "\n",
        "**Exercise 5:**\n",
        "\n",
        "1. Show that there exists a constant $\\alpha\\in\\mathbb{R}$ and an orthogonal matrix $P\\in O_2(\\mathbb{R})$ telle que\n",
        "$A = \\alpha P$ and give the expression of $\\alpha$ and $P$.\n",
        "\n",
        "2. Show that $A$ is normal.\n",
        "\n",
        "3. Describe the map $x\\mapsto A x$ from $\\mathbb{R}^2$ to $\\mathbb{R}^2$ as a combination of two simple geometric maps (e.g. rotation, homothety, symmetry, ...).\n",
        "\n",
        "\n",
        "4. Compute numerically the eigenvalues of $A$ and an associated eigenvector using the function ```numpy.linalg.eig(a)```.\n",
        "\n",
        "5. Give the mathematical expression of the eigenvalues and associated eigenvectors of $A$.\n",
        "\n",
        "\n"
      ]
    },
    {
      "cell_type": "code",
      "metadata": {
        "id": "KIGo0pk7gND4"
      },
      "source": [
        ""
      ],
      "execution_count": null,
      "outputs": []
    }
  ]
}